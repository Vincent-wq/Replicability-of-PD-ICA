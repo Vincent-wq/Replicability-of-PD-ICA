{
 "cells": [
  {
   "cell_type": "code",
   "execution_count": 27,
   "metadata": {},
   "outputs": [],
   "source": [
    "## Read data\n",
    "from pathlib import Path\n",
    "import pandas as pd\n",
    "import seaborn as sns\n",
    "out_dir = Path(\"/output\")\n",
    "mni_file = out_dir/'freesurfer_out_preped.csv'\n",
    "ppmi_file = out_dir/'data'/'ppmi'/'NC_PPMI'/'3T_T1_NC_5_08_2021.csv'\n",
    "\n",
    "#reading and filtering to get age and sex of \n",
    "mni_tab  = pd.read_csv(mni_file, sep=',', header=0, index_col=0)\n",
    "mni_nc_tab  = mni_tab[mni_tab['diagnosis']=='NC'][['age','sex']]\n",
    "mni_et_tab  = mni_tab[mni_tab['diagnosis']=='ET'][['age','sex']]\n",
    "ppmi_tab = pd.read_csv(ppmi_file, sep=',', header=0, index_col=0)\n",
    "# take the first visit\n",
    "ppmi_tab1 = ppmi_tab[ppmi_tab['Visit']==1]\n",
    "ppmi_nc_tab  = ppmi_tab1[['Age','Sex']]\n"
   ]
  },
  {
   "cell_type": "code",
   "execution_count": 28,
   "metadata": {},
   "outputs": [
    {
     "data": {
      "text/plain": [
       "116"
      ]
     },
     "execution_count": 28,
     "metadata": {},
     "output_type": "execute_result"
    }
   ],
   "source": [
    "# matching 1\n",
    "len(ppmi_tab1)"
   ]
  },
  {
   "cell_type": "code",
   "execution_count": null,
   "metadata": {},
   "outputs": [],
   "source": [
    "# matching 2"
   ]
  }
 ],
 "metadata": {
  "kernelspec": {
   "display_name": "Python 3",
   "language": "python",
   "name": "python3"
  },
  "language_info": {
   "codemirror_mode": {
    "name": "ipython",
    "version": 3
   },
   "file_extension": ".py",
   "mimetype": "text/x-python",
   "name": "python",
   "nbconvert_exporter": "python",
   "pygments_lexer": "ipython3",
   "version": "3.7.0"
  }
 },
 "nbformat": 4,
 "nbformat_minor": 4
}
