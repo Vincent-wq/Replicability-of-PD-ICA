{
 "cells": [
  {
   "cell_type": "code",
   "execution_count": null,
   "metadata": {},
   "outputs": [],
   "source": [
    "grou_names=['PD']*len(pd_jaco_x_list_mean)+['ET']*len(et_jaco_x_list_mean)+['NC']*len(nc_jaco_x_list_mean);\n",
    "age=pd_age_list+et_age_list+nc_age_list;\n",
    "group_ica_mean=pd_jaco_x_list_mean+et_jaco_x_list_mean+nc_jaco_x_list_mean;\n",
    "import pandas as pd\n",
    "df_1=pd.DataFrame({'group':grou_names, 'age':age, 'ica_mean': group_ica_mean})\n",
    "# generate a boxplot to see the data distribution by genotypes and years. Using boxplot, we can easily detect the \n",
    "# differences between different groups\n",
    "#sns.boxplot(x=\"group\", y=\"age\", hue=\"ica_mean\", data=df_1, palette=\"Set3\") \n",
    "#df_1.to_csv('data.csv')\n",
    "print(df_1)\n"
   ]
  },
  {
   "cell_type": "code",
   "execution_count": 19,
   "metadata": {},
   "outputs": [
    {
     "name": "stdout",
     "output_type": "stream",
     "text": [
      "<KeysViewHDF5 ['HDFVersion', 'ITKVersion', 'OSName', 'OSVersion', 'TransformGroup']>\n",
      "<KeysViewHDF5 ['TransformType']>\n"
     ]
    }
   ],
   "source": [
    "import pandas as pd\n",
    "df_1=pd.read_csv('data.csv')\n",
    "import statsmodels.api as sm\n",
    "from statsmodels.formula.api import ols\n",
    "# Ordinary Least Squares (OLS) model\n",
    "# C(Genotype):C(years) represent interaction term\n",
    "model= ols('ica_mean ~ (group) + (age) + (group):(age)', data=df_1).fit()\n",
    "anova_table = sm.stats.anova_lm(model, typ=3)\n",
    "model1= ols('ica_mean ~ (group) + (age)', data=df_1).fit()\n",
    "anova_table1 = sm.stats.anova_lm(model1, typ=3)"
   ]
  },
  {
   "cell_type": "code",
   "execution_count": null,
   "metadata": {},
   "outputs": [],
   "source": [
    "print(anova_table)\n",
    "print(model.conf_int())\n",
    "print(anova_table1)\n",
    "print(model1.conf_int())\n",
    "\n",
    "print(model.aic, model.bic)\n",
    "print(model1.aic, model1.bic)\n"
   ]
  }
 ],
 "metadata": {
  "kernelspec": {
   "display_name": "Python 3",
   "language": "python",
   "name": "python3"
  },
  "language_info": {
   "codemirror_mode": {
    "name": "ipython",
    "version": 3
   },
   "file_extension": ".py",
   "mimetype": "text/x-python",
   "name": "python",
   "nbconvert_exporter": "python",
   "pygments_lexer": "ipython3",
   "version": "3.7.0"
  }
 },
 "nbformat": 4,
 "nbformat_minor": 4
}
