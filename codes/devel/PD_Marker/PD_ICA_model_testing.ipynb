{
 "cells": [
  {
   "cell_type": "code",
   "execution_count": 36,
   "metadata": {},
   "outputs": [
    {
     "name": "stdout",
     "output_type": "stream",
     "text": [
      "PD :  40\n",
      "ET :  29\n",
      "NC :  33\n"
     ]
    }
   ],
   "source": [
    "# read data: 30 ICs \n",
    "import nipype.interfaces.io as nio\n",
    "import os\n",
    "PD_ICA_file='/templateflow/PD_ICAs';\n",
    "ICs_list=list(range(30))\n",
    "ICs_list=[\"{:0>4d}\".format(x) for x in ICs_list]\n",
    "# file import\n",
    "ds_ic = nio.DataGrabber(infields=['IC_id'])\n",
    "ds_ic.inputs.base_directory = PD_ICA_file # database\n",
    "ds_ic.inputs.template = 'melodic_IC_%4s.nii.gz' # from cwd\n",
    "ds_ic.inputs.sort_filelist = True\n",
    "ds_ic.inputs.IC_id = ICs_list\n",
    "res_ic = ds_ic.run()\n",
    "ic_list=res_ic.outputs.outfiles\n",
    "# read data: 3 study groups by sub_list \n",
    "GROUPS=['PD','ET','NC']\n",
    "OUT_DIR='/output/PD_ICA/'\n",
    "xIC_DIR=OUT_DIR+'IC_Ximg/'\n",
    "SUB_LIST=[]; AGE_LIST=[]; JCOB_LIST=[]; XJCOB_LIST=[];\n",
    "N_ic=len(ic_list);\n",
    "ic_names=[str(x) for x in list(range(30))]\n",
    "\n",
    "for group_name in GROUPS:\n",
    "    current_group=group_name\n",
    "    current_sub_list_file = '/codes/devel/PD_Marker/'+current_group+'_info_ICA.list'\n",
    "    # create dir for output\n",
    "    current_OUT_DIR=OUT_DIR+current_group+'/'\n",
    "    if not os.path.exists(current_OUT_DIR):\n",
    "        os.makedirs(current_OUT_DIR)\n",
    "    #read sub list\n",
    "    with open(current_sub_list_file, 'r') as f_sub:\n",
    "        sub_list_raw= f_sub.readlines()\n",
    "    sub_list = [x[0:-1].split('\\t')[0] for x in sub_list_raw] # remove \n",
    "    age_list = [int(x[0:-1].split('\\t')[1]) for x in sub_list_raw]\n",
    "    SUB_LIST.append(sub_list);  AGE_LIST.append(age_list);\n",
    "    N_sub=len(sub_list)\n",
    "    print(group_name, ': ', N_sub)\n",
    "    # grab group Jacobians\n",
    "    ds_jacobian = nio.DataGrabber(infields=['sub_id'])\n",
    "    ds_jacobian.inputs.base_directory = current_OUT_DIR # database\n",
    "    ds_jacobian.inputs.template = '%s_desc-preproc_T1w_space-MNI2009c_Warp_Jacobian.nii.gz' # from cwd\n",
    "    ds_jacobian.inputs.sort_filelist = True\n",
    "    ds_jacobian.inputs.sub_id = sub_list\n",
    "    res_jacobian = ds_jacobian.run()\n",
    "    jacobian_list=res_jacobian.outputs.outfiles\n",
    "    JCOB_LIST.append(jacobian_list)\n",
    "    # grab group Jacobian X ics\n",
    "    TMP_XJCOB_LIST=[]\n",
    "    for i_sub in range(N_sub):\n",
    "        sub_str = sub_list[i_sub]\n",
    "        sub_xic_list=[]\n",
    "        for i_ic in range(N_ic):\n",
    "            xic_PATH=xIC_DIR+sub_str+'-xIC'+ic_names[i_ic]+'.nii.gz'\n",
    "            sub_xic_list.append(xic_PATH)\n",
    "        TMP_XJCOB_LIST.append(sub_xic_list)\n",
    "    XJCOB_LIST.append(TMP_XJCOB_LIST)\n",
    "    \n",
    "pd_sub_list = SUB_LIST[0]; et_sub_list = SUB_LIST[1]; nc_sub_list = SUB_LIST[2]; \n",
    "pd_age_list = AGE_LIST[0]; et_age_list = AGE_LIST[1]; nc_age_list = AGE_LIST[2];\n",
    "pd_jaco_list=JCOB_LIST[0]; et_jaco_list=JCOB_LIST[1]; nc_jaco_list=JCOB_LIST[2];\n",
    "pd_xjaco_list=XJCOB_LIST[0]; et_xjaco_list=XJCOB_LIST[1]; nc_xjaco_list=XJCOB_LIST[2];"
   ]
  },
  {
   "cell_type": "code",
   "execution_count": 2,
   "metadata": {},
   "outputs": [
    {
     "name": "stderr",
     "output_type": "stream",
     "text": [
      "\n",
      "Bad key \"text.kerning_factor\" on line 4 in\n",
      "/usr/local/miniconda/lib/python3.7/site-packages/matplotlib/mpl-data/stylelib/_classic_test_patch.mplstyle.\n",
      "You probably need to get an updated matplotlibrc file from\n",
      "http://github.com/matplotlib/matplotlib/blob/master/matplotlibrc.template\n",
      "or from the matplotlib source distribution\n"
     ]
    },
    {
     "name": "stdout",
     "output_type": "stream",
     "text": [
      "Index(['ic0', 'ic1', 'ic2', 'ic3', 'ic4', 'ic5', 'ic6', 'ic7', 'ic8', 'ic9',\n",
      "       'ic10', 'ic11', 'ic12', 'ic13', 'ic14', 'ic15', 'ic16', 'ic17', 'ic18',\n",
      "       'ic19', 'ic20', 'ic21', 'ic22', 'ic23', 'ic24', 'ic25', 'ic26', 'ic27',\n",
      "       'ic28', 'ic29', 'age', 'LABEL'],\n",
      "      dtype='object')\n"
     ]
    }
   ],
   "source": [
    "# import necessary modules:\n",
    "import numpy as np\n",
    "import pandas as pd\n",
    "import patsy\n",
    "import seaborn as sns\n",
    "import statsmodels.api as sm\n",
    "import statsmodels.formula.api as smf\n",
    "import statsmodels.stats as sm_stats\n",
    "import matplotlib.pyplot as plt\n",
    "\n",
    "%matplotlib inline\n",
    "sns.set_style(\"white\")\n"
   ]
  },
  {
   "cell_type": "code",
   "execution_count": 6,
   "metadata": {},
   "outputs": [
    {
     "data": {
      "text/plain": [
       "<matplotlib.axes._subplots.AxesSubplot at 0x7fd6992707b8>"
      ]
     },
     "execution_count": 6,
     "metadata": {},
     "output_type": "execute_result"
    },
    {
     "data": {
      "image/png": "[encoded data removed]",
      "text/plain": [
       "<Figure size 432x288 with 1 Axes>"
      ]
     },
     "metadata": {},
     "output_type": "display_data"
    }
   ],
   "source": [
    "# IC*PD/NC mean\n",
    "IC_INDEX = ['ic'+str(x) for x in range(30)]\n",
    "PD_mean = pd.read_csv('mean_all_pd.csv', sep=',', header=0, index_col=0)\n",
    "PD_mean.index= IC_INDEX\n",
    "PD_mean.columns = pd_sub_list\n",
    "PD_mean=PD_mean.T\n",
    "PD_mean['age']=pd_age_list\n",
    "NC_mean = pd.read_csv('mean_all_nc.csv', sep=',', header=0, index_col=0, usecols=list(range(21))+list(range(22,35,1)))\n",
    "NC_mean.index= IC_INDEX\n",
    "NC_mean.columns = nc_sub_list\n",
    "NC_mean=NC_mean.T\n",
    "NC_mean['age']=nc_age_list\n",
    "#print(NC_mean.columns)\n",
    "Labels = [1]*len(pd_sub_list)+[0]*len(nc_sub_list)\n",
    "data_all = PD_mean.append(NC_mean)\n",
    "data_all['LABEL']=Labels\n",
    "print(data_all.columns)\n",
    "#PD_mean.boxplot(column=['ic0', 'ic1', 'ic3', 'ic4', 'ic5', 'ic6', 'ic7'], grid=False)\n",
    "NC_mean.boxplot(column=['ic0', 'ic1', 'ic3', 'ic4', 'ic5', 'ic6', 'ic7'], grid=False)\n",
    "#sns.boxplot(x=\"Genotype\", y=\"value\", hue=\"years\", data=data_all, palette=\"Set3\") "
   ]
  },
  {
   "cell_type": "code",
   "execution_count": 40,
   "metadata": {
    "scrolled": true
   },
   "outputs": [
    {
     "name": "stdout",
     "output_type": "stream",
     "text": [
      "                 Generalized Linear Model Regression Results                  \n",
      "==============================================================================\n",
      "Dep. Variable:                  LABEL   No. Observations:                   73\n",
      "Model:                            GLM   Df Residuals:                       41\n",
      "Model Family:                Binomial   Df Model:                           31\n",
      "Link Function:                  logit   Scale:                          1.0000\n",
      "Method:                          IRLS   Log-Likelihood:                -21.667\n",
      "Date:                Fri, 18 Sep 2020   Deviance:                       43.334\n",
      "Time:                        12:02:33   Pearson chi2:                     68.2\n",
      "No. Iterations:                     9                                         \n",
      "Covariance Type:            nonrobust                                         \n",
      "==============================================================================\n",
      "                 coef    std err          z      P>|z|      [0.025      0.975]\n",
      "------------------------------------------------------------------------------\n",
      "Intercept     -6.3144      4.742     -1.332      0.183     -15.608       2.979\n",
      "ic0          -76.1077     34.626     -2.198      0.028    -143.974      -8.242\n",
      "ic1          -38.9296     32.153     -1.211      0.226    -101.948      24.088\n",
      "ic2          -64.4286     34.107     -1.889      0.059    -131.277       2.420\n",
      "ic3           10.8704     22.227      0.489      0.625     -32.693      54.434\n",
      "ic4           56.0184     34.393      1.629      0.103     -11.390     123.427\n",
      "ic5           40.6526     23.460      1.733      0.083      -5.329      86.634\n",
      "ic6           30.4710     28.746      1.060      0.289     -25.871      86.813\n",
      "ic7            0.9495     29.970      0.032      0.975     -57.791      59.690\n",
      "ic8          -34.1717     27.828     -1.228      0.219     -88.714      20.371\n",
      "ic9           88.7428     52.719      1.683      0.092     -14.584     192.070\n",
      "ic10          69.7631     30.196      2.310      0.021      10.579     128.947\n",
      "ic11          38.1022     38.870      0.980      0.327     -38.082     114.287\n",
      "ic12          64.9221     26.807      2.422      0.015      12.380     117.464\n",
      "ic13          32.4218     22.022      1.472      0.141     -10.740      75.583\n",
      "ic14         -33.6637     33.461     -1.006      0.314     -99.246      31.919\n",
      "ic15          31.7195     35.698      0.889      0.374     -38.248     101.687\n",
      "ic16         -52.6481     29.865     -1.763      0.078    -111.182       5.886\n",
      "ic17         -22.0248     25.114     -0.877      0.380     -71.248      27.198\n",
      "ic18         -29.1909     29.994     -0.973      0.330     -87.979      29.597\n",
      "ic19          42.1540     26.026      1.620      0.105      -8.856      93.164\n",
      "ic20         -10.0174     25.317     -0.396      0.692     -59.638      39.603\n",
      "ic21          15.5752     22.122      0.704      0.481     -27.782      58.933\n",
      "ic22          39.3326     27.038      1.455      0.146     -13.660      92.325\n",
      "ic23         -15.8977     33.911     -0.469      0.639     -82.363      50.567\n",
      "ic24          30.3949     25.990      1.169      0.242     -20.545      81.335\n",
      "ic25          15.8481     22.214      0.713      0.476     -27.690      59.386\n",
      "ic26         -18.1016     23.829     -0.760      0.447     -64.805      28.602\n",
      "ic27          82.2804     36.958      2.226      0.026       9.845     154.716\n",
      "ic28           7.0038     16.766      0.418      0.676     -25.856      39.864\n",
      "ic29           5.7019     28.186      0.202      0.840     -49.541      60.945\n",
      "age            0.0579      0.076      0.767      0.443      -0.090       0.206\n",
      "==============================================================================\n"
     ]
    },
    {
     "name": "stderr",
     "output_type": "stream",
     "text": [
      "/usr/local/miniconda/lib/python3.7/site-packages/ipykernel_launcher.py:5: DeprecationWarning: Calling Family(..) with a link class as argument is deprecated.\n",
      "Use an instance of a link class instead.\n",
      "  \"\"\"\n",
      "/usr/local/miniconda/lib/python3.7/site-packages/ipykernel_launcher.py:9: DeprecationWarning: Calling Family(..) with a link class as argument is deprecated.\n",
      "Use an instance of a link class instead.\n",
      "  if __name__ == '__main__':\n"
     ]
    },
    {
     "ename": "AttributeError",
     "evalue": "'GLMResults' object has no attribute 'predi'",
     "output_type": "error",
     "traceback": [
      "\u001b[0;31m---------------------------------------------------------------------------\u001b[0m",
      "\u001b[0;31mAttributeError\u001b[0m                            Traceback (most recent call last)",
      "\u001b[0;32m<ipython-input-40-61b2bbeb8298>\u001b[0m in \u001b[0;36m<module>\u001b[0;34m\u001b[0m\n\u001b[1;32m      8\u001b[0m fit_lm1 = smf.glm('LABEL ~ ic0 + ic1 + ic2 + ic3 + ic4 + ic5 + ic6 + ic7 + age', data_all, \\\n\u001b[1;32m      9\u001b[0m                  family=sm.families.Binomial(link=sm.families.links.logit)).fit()\n\u001b[0;32m---> 10\u001b[0;31m \u001b[0mfit_lm1\u001b[0m\u001b[0;34m.\u001b[0m\u001b[0mpredi\u001b[0m\u001b[0;34m\u001b[0m\u001b[0m\n\u001b[0m\u001b[1;32m     11\u001b[0m \u001b[0mprint\u001b[0m\u001b[0;34m(\u001b[0m\u001b[0mfit_lm1\u001b[0m\u001b[0;34m.\u001b[0m\u001b[0msummary\u001b[0m\u001b[0;34m(\u001b[0m\u001b[0;34m)\u001b[0m\u001b[0;34m)\u001b[0m\u001b[0;34m\u001b[0m\u001b[0m\n\u001b[1;32m     12\u001b[0m \u001b[0mfit_lm\u001b[0m\u001b[0;34m.\u001b[0m\u001b[0mpredict\u001b[0m\u001b[0;34m(\u001b[0m\u001b[0mexog\u001b[0m\u001b[0;34m=\u001b[0m\u001b[0mdata_all\u001b[0m\u001b[0;34m)\u001b[0m\u001b[0;34m\u001b[0m\u001b[0m\n",
      "\u001b[0;32m/usr/local/miniconda/lib/python3.7/site-packages/statsmodels/base/wrapper.py\u001b[0m in \u001b[0;36m__getattribute__\u001b[0;34m(self, attr)\u001b[0m\n\u001b[1;32m     32\u001b[0m             \u001b[0;32mpass\u001b[0m\u001b[0;34m\u001b[0m\u001b[0m\n\u001b[1;32m     33\u001b[0m \u001b[0;34m\u001b[0m\u001b[0m\n\u001b[0;32m---> 34\u001b[0;31m         \u001b[0mobj\u001b[0m \u001b[0;34m=\u001b[0m \u001b[0mgetattr\u001b[0m\u001b[0;34m(\u001b[0m\u001b[0mresults\u001b[0m\u001b[0;34m,\u001b[0m \u001b[0mattr\u001b[0m\u001b[0;34m)\u001b[0m\u001b[0;34m\u001b[0m\u001b[0m\n\u001b[0m\u001b[1;32m     35\u001b[0m         \u001b[0mdata\u001b[0m \u001b[0;34m=\u001b[0m \u001b[0mresults\u001b[0m\u001b[0;34m.\u001b[0m\u001b[0mmodel\u001b[0m\u001b[0;34m.\u001b[0m\u001b[0mdata\u001b[0m\u001b[0;34m\u001b[0m\u001b[0m\n\u001b[1;32m     36\u001b[0m         \u001b[0mhow\u001b[0m \u001b[0;34m=\u001b[0m \u001b[0mself\u001b[0m\u001b[0;34m.\u001b[0m\u001b[0m_wrap_attrs\u001b[0m\u001b[0;34m.\u001b[0m\u001b[0mget\u001b[0m\u001b[0;34m(\u001b[0m\u001b[0mattr\u001b[0m\u001b[0;34m)\u001b[0m\u001b[0;34m\u001b[0m\u001b[0m\n",
      "\u001b[0;31mAttributeError\u001b[0m: 'GLMResults' object has no attribute 'predi'"
     ]
    }
   ],
   "source": [
    "import statsmodels.api as sm\n",
    "import statsmodels.formula.api as smf\n",
    "\n",
    "fit_lm = smf.glm('LABEL ~ ic0 + ic1 + ic2 + ic3 + ic4 + ic5 + ic6 + ic7 + ic8 + ic9 + ic10 + ic11 + ic12 + ic13 + ic14 + ic15 + ic16 + ic17 + ic18 + ic19 + ic20 + ic21 + ic22  + ic23 + ic24 + ic25 + ic26 + ic27 + ic28 + ic29 + age', data_all, \\\n",
    "                 family=sm.families.Binomial(link=sm.families.links.logit)).fit()\n",
    "print(fit_lm.summary())\n",
    "\n",
    "fit_lm1 = smf.glm('LABEL ~ ic0 + ic1 + ic2 + ic3 + ic4 + ic5 + ic6 + ic7 + age', data_all, \\\n",
    "                 family=sm.families.Binomial(link=sm.families.links.logit)).fit()\n",
    "fit_lm1.predi\n",
    "print(fit_lm1.summary())\n",
    "fit_lm.predict(exog=data_all)\n"
   ]
  },
  {
   "cell_type": "code",
   "execution_count": 45,
   "metadata": {},
   "outputs": [
    {
     "data": {
      "text/plain": [
       "Intercept    -6.314407\n",
       "ic0         -76.107733\n",
       "ic1         -38.929635\n",
       "ic2         -64.428637\n",
       "ic3          10.870359\n",
       "ic4          56.018398\n",
       "ic5          40.652611\n",
       "ic6          30.470969\n",
       "ic7           0.949538\n",
       "ic8         -34.171692\n",
       "ic9          88.742838\n",
       "ic10         69.763064\n",
       "ic11         38.102221\n",
       "ic12         64.922071\n",
       "ic13         32.421756\n",
       "ic14        -33.663676\n",
       "ic15         31.719457\n",
       "ic16        -52.648120\n",
       "ic17        -22.024840\n",
       "ic18        -29.190861\n",
       "ic19         42.154004\n",
       "ic20        -10.017445\n",
       "ic21         15.575214\n",
       "ic22         39.332623\n",
       "ic23        -15.897673\n",
       "ic24         30.394926\n",
       "ic25         15.848131\n",
       "ic26        -18.101645\n",
       "ic27         82.280366\n",
       "ic28          7.003832\n",
       "ic29          5.701881\n",
       "age           0.057928\n",
       "dtype: float64"
      ]
     },
     "execution_count": 45,
     "metadata": {},
     "output_type": "execute_result"
    }
   ],
   "source": [
    "def n\n",
    "x=fit_lm.predict(exog=data_all)"
   ]
  },
  {
   "cell_type": "code",
   "execution_count": 120,
   "metadata": {},
   "outputs": [
    {
     "name": "stdout",
     "output_type": "stream",
     "text": [
      "                 Generalized Linear Model Regression Results                  \n",
      "==============================================================================\n",
      "Dep. Variable:                  LABEL   No. Observations:                   73\n",
      "Model:                            GLM   Df Residuals:                       70\n",
      "Model Family:                Binomial   Df Model:                            2\n",
      "Link Function:                  logit   Scale:                          1.0000\n",
      "Method:                          IRLS   Log-Likelihood:                -47.652\n",
      "Date:                Fri, 11 Sep 2020   Deviance:                       95.305\n",
      "Time:                        11:36:01   Pearson chi2:                     77.0\n",
      "No. Iterations:                     4                                         \n",
      "Covariance Type:            nonrobust                                         \n",
      "==============================================================================\n",
      "                 coef    std err          z      P>|z|      [0.025      0.975]\n",
      "------------------------------------------------------------------------------\n",
      "Intercept     -2.4322      1.352     -1.799      0.072      -5.083       0.218\n",
      "ic7           -7.9525      8.314     -0.957      0.339     -24.247       8.342\n",
      "age            0.0427      0.022      1.925      0.054      -0.001       0.086\n",
      "==============================================================================\n"
     ]
    },
    {
     "name": "stderr",
     "output_type": "stream",
     "text": [
      "/usr/local/miniconda/lib/python3.7/site-packages/ipykernel_launcher.py:2: DeprecationWarning: Calling Family(..) with a link class as argument is deprecated.\n",
      "Use an instance of a link class instead.\n",
      "  \n"
     ]
    },
    {
     "data": {
      "text/plain": [
       "5.373972038621097e-109"
      ]
     },
     "execution_count": 120,
     "metadata": {},
     "output_type": "execute_result"
    },
    {
     "data": {
      "image/png": "[encoded data removed]",
      "text/plain": [
       "<Figure size 432x288 with 1 Axes>"
      ]
     },
     "metadata": {},
     "output_type": "display_data"
    }
   ],
   "source": [
    "fit_lm2 = smf.glm('LABEL ~ ic7 + age', data_all, \\\n",
    "                 family=sm.families.Binomial(link=sm.families.links.logit)).fit()\n",
    "print(fit_lm2.summary())\n",
    "# Let's have a look at the model predictions\n",
    "sns.regplot('ic7', 'LABEL', data_all)\n",
    "sns.despine(offset=10);\n",
    "#\n",
    "def logit(x):\n",
    "    return(1. / (1. + np.exp(-x)))\n",
    "age = 65\n",
    "linear_predictor = fit_lm2.params[0] + fit_lm2.params[-2]*age\n",
    "linear_predictor\n",
    "pred=logit(linear_predictor)\n",
    "pred"
   ]
  },
  {
   "cell_type": "code",
   "execution_count": null,
   "metadata": {},
   "outputs": [],
   "source": []
  },
  {
   "cell_type": "code",
   "execution_count": null,
   "metadata": {},
   "outputs": [],
   "source": [
    "# calculate image naive corr\n",
    "import nibabel as nib\n",
    "import numpy as np\n",
    "import time\n",
    "i_PD_IC=7\n",
    "PD_ICA_img=nib.load(ic_list[i_PD_IC]);\n",
    "def cal_groupCorr(ic_img, img_list):\n",
    "    import nibabel as nib\n",
    "    from nilearn.image import resample_to_img\n",
    "    from nilearn.image import math_img\n",
    "    from scipy import stats\n",
    "    x_list=[];\n",
    "    N_sub=len(img_list)\n",
    "    for i in range(N_sub):\n",
    "        sub_img=nib.load(img_list[i])\n",
    "        sub_img_re= resample_to_img(sub_img, ic_img)\n",
    "        ic_data = ic_img.get_fdata().reshape(-1);\n",
    "        nz_pos=np.flatnonzero(ic_data)\n",
    "        ic_val=list(ic_data.ravel()[nz_pos])\n",
    "        sub_dat = sub_img_re.get_fdata().reshape(-1);\n",
    "        sub_val=list(stats.zscore(sub_dat.ravel()[nz_pos]))\n",
    "        x_list.append(np.corrcoef(sub_val, ic_val)[0,1])\n",
    "    return x_list\n",
    "t0=time.time()\n",
    "pd_jaco_corr_list=[cal_groupCorr(nib.load(x), pd_jaco_list) for x in ic_list]; \n",
    "et_jaco_corr_list=[cal_groupCorr(nib.load(x), et_jaco_list) for x in ic_list]; \n",
    "nc_jaco_corr_list=[cal_groupCorr(nib.load(x), nc_jaco_list) for x in ic_list]; \n",
    "print(\"naive corr of 3 groups take: \", str(time.time()-t0))"
   ]
  },
  {
   "cell_type": "code",
   "execution_count": null,
   "metadata": {},
   "outputs": [],
   "source": [
    "#vis for naive corr\n",
    "import numpy as np\n",
    "def plot_corrICA(a, b, c):\n",
    "    al=np.zeros(len(a)); bl=np.zeros(len(b)); cl=np.zeros(len(c));\n",
    "    x=list(range(al+bl+cl))\n",
    "    fig, ax = plt.subplots(figsize=(8, 8))\n",
    "    ax.set_title('Group element-wise correlation', color='C0')\n",
    "    ax.plot(x[0:al-1], a,  label='PD: '+str(round(np.mean(a),4))+'~'+str(round(np.std(a),4)))\n",
    "    ax.plot(x[al:al+bl-1],b ,  label='NC: '+str(round(np.mean(b),4))+'~'+str(round(np.std(b),4)))\n",
    "    ax.plot(x[al+bl:al+bl+cl-1], c,  label='ET: '+str(round(np.mean(c),4))+'~'+str(round(np.std(c),4)))\n",
    "    ax.legend()\n",
    "plot_corrICA(pd_jaco_corr_list[], nc_jaco_corr_list[], et_jaco_corr_list[])"
   ]
  },
  {
   "cell_type": "code",
   "execution_count": 3,
   "metadata": {},
   "outputs": [
    {
     "ename": "ModuleNotFoundError",
     "evalue": "No module named 'nistats'",
     "output_type": "error",
     "traceback": [
      "\u001b[0;31m---------------------------------------------------------------------------\u001b[0m",
      "\u001b[0;31mModuleNotFoundError\u001b[0m                       Traceback (most recent call last)",
      "\u001b[0;32m<ipython-input-3-0a671988e589>\u001b[0m in \u001b[0;36m<module>\u001b[0;34m\u001b[0m\n\u001b[1;32m      1\u001b[0m \u001b[0;32mimport\u001b[0m \u001b[0mstatsmodels\u001b[0m\u001b[0;34m\u001b[0m\u001b[0m\n\u001b[0;32m----> 2\u001b[0;31m \u001b[0;32mimport\u001b[0m \u001b[0mnistats\u001b[0m\u001b[0;34m\u001b[0m\u001b[0m\n\u001b[0m",
      "\u001b[0;31mModuleNotFoundError\u001b[0m: No module named 'nistats'"
     ]
    }
   ],
   "source": [
    "import statsmodels\n",
    "import nistats"
   ]
  },
  {
   "cell_type": "code",
   "execution_count": null,
   "metadata": {},
   "outputs": [],
   "source": [
    "from scipy import stats\n",
    "print('T-test for PD vs NC', stats.ttest_ind(rvs1,rvs2))\n",
    "print('T-test for PD vs NC', stats.ttest_ind(rvs1,rvs2))"
   ]
  },
  {
   "cell_type": "code",
   "execution_count": null,
   "metadata": {},
   "outputs": [],
   "source": [
    "grou_names=['PD']*len(pd_jaco_x_list_mean)+['ET']*len(et_jaco_x_list_mean)+['NC']*len(nc_jaco_x_list_mean);\n",
    "age=pd_age_list+et_age_list+nc_age_list;\n",
    "group_ica_mean=pd_jaco_x_list_mean+et_jaco_x_list_mean+nc_jaco_x_list_mean;\n",
    "import pandas as pd\n",
    "df_1=pd.DataFrame({'group':grou_names, 'age':age, 'ica_mean': group_ica_mean})\n",
    "# generate a boxplot to see the data distribution by genotypes and years. Using boxplot, we can easily detect the \n",
    "# differences between different groups\n",
    "#sns.boxplot(x=\"group\", y=\"age\", hue=\"ica_mean\", data=df_1, palette=\"Set3\") \n",
    "#df_1.to_csv('data.csv')\n",
    "print(df_1)"
   ]
  },
  {
   "cell_type": "code",
   "execution_count": 19,
   "metadata": {},
   "outputs": [
    {
     "name": "stdout",
     "output_type": "stream",
     "text": [
      "<KeysViewHDF5 ['HDFVersion', 'ITKVersion', 'OSName', 'OSVersion', 'TransformGroup']>\n",
      "<KeysViewHDF5 ['TransformType']>\n"
     ]
    }
   ],
   "source": [
    "import pandas as pd\n",
    "df_1=pd.read_csv('data.csv')\n",
    "import statsmodels.api as sm\n",
    "from statsmodels.formula.api import ols\n",
    "# Ordinary Least Squares (OLS) model\n",
    "# C(Genotype):C(years) represent interaction term\n",
    "model= ols('ica_mean ~ (group) + (age) + (group):(age)', data=df_1).fit()\n",
    "anova_table = sm.stats.anova_lm(model, typ=3)\n",
    "model1= ols('ica_mean ~ (group) + (age)', data=df_1).fit()\n",
    "anova_table1 = sm.stats.anova_lm(model1, typ=3)"
   ]
  },
  {
   "cell_type": "code",
   "execution_count": null,
   "metadata": {},
   "outputs": [],
   "source": [
    "print(anova_table)\n",
    "print(model.conf_int())\n",
    "print(anova_table1)\n",
    "print(model1.conf_int())\n",
    "\n",
    "print(model.aic, model.bic)\n",
    "print(model1.aic, model1.bic)\n"
   ]
  },
  {
   "cell_type": "code",
   "execution_count": null,
   "metadata": {},
   "outputs": [],
   "source": []
  }
 ],
 "metadata": {
  "kernelspec": {
   "display_name": "Python 3",
   "language": "python",
   "name": "python3"
  },
  "language_info": {
   "codemirror_mode": {
    "name": "ipython",
    "version": 3
   },
   "file_extension": ".py",
   "mimetype": "text/x-python",
   "name": "python",
   "nbconvert_exporter": "python",
   "pygments_lexer": "ipython3",
   "version": "3.7.0"
  }
 },
 "nbformat": 4,
 "nbformat_minor": 4
}
