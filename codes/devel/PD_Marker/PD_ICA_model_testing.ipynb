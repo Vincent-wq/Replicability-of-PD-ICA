{
 "cells": [
  {
   "cell_type": "code",
   "execution_count": 1,
   "metadata": {},
   "outputs": [
    {
     "name": "stdout",
     "output_type": "stream",
     "text": [
      "PD :  40 ['sub-0002', 'sub-0004', 'sub-0005', 'sub-0006', 'sub-0008', 'sub-0009', 'sub-0012', 'sub-0014', 'sub-0015', 'sub-0021', 'sub-0022', 'sub-0023', 'sub-0024', 'sub-0025', 'sub-0028', 'sub-0030', 'sub-0031', 'sub-0034', 'sub-0035', 'sub-0037', 'sub-0038', 'sub-0040', 'sub-0047', 'sub-0051', 'sub-0052', 'sub-0068', 'sub-0075', 'sub-0076', 'sub-0094', 'sub-0096', 'sub-0098', 'sub-0109', 'sub-0111', 'sub-0118', 'sub-0125', 'sub-0129', 'sub-0132', 'sub-0136', 'sub-1000', 'sub-1020'] [70, 76, 45, 63, 59, 57, 47, 66, 65, 53, 62, 50, 63, 44, 61, 72, 51, 70, 69, 68, 54, 63, 75, 54, 56, 66, 66, 48, 66, 73, 57, 69, 69, 54, 60, 69, 74, 62, 77, 6]\n",
      "ET :  30 ['sub-0016', 'sub-0061', 'sub-0081', 'sub-0115', 'sub-0119', 'sub-0122', 'sub-0134', 'sub-0178', 'sub-1012', 'sub-1120', 'sub-1160', 'sub-1230', 'sub-1310', 'sub-1340', 'sub-1450', 'sub-1500', 'sub-1690', 'sub-1890', 'sub-1920', 'sub-2400', 'sub-3600', 'sub-3700', 'sub-3900', 'sub-4200', 'sub-4300', 'sub-4700', 'sub-5700', 'sub-7000', 'sub-7400', 'sub-7800'] [78, 76, 74, 82, 73, 70, 71, 76, 81, 64, 77, 75, 55, 72, 67, 72, 77, 72, 82, 77, 83, 75, 71, 73, 83, 59, 65, 60, 73, 6]\n",
      "NC :  34 ['sub-0039', 'sub-0041', 'sub-0042', 'sub-0043', 'sub-0044', 'sub-0053', 'sub-0057', 'sub-0058', 'sub-0060', 'sub-0062', 'sub-0064', 'sub-0066', 'sub-0067', 'sub-0071', 'sub-0072', 'sub-0077', 'sub-0078', 'sub-0079', 'sub-0080', 'sub-0082', 'sub-0083', 'sub-0085', 'sub-0100', 'sub-0102', 'sub-0104', 'sub-0107', 'sub-0108', 'sub-0110', 'sub-0113', 'sub-0117', 'sub-0121', 'sub-0124', 'sub-0128', 'sub-0130'] [57, 61, 53, 59, 29, 52, 49, 58, 51, 49, 58, 54, 58, 59, 54, 53, 59, 59, 28, 53, 54, 53, 51, 67, 31, 60, 70, 61, 71, 68, 65, 68, 71, 7]\n"
     ]
    }
   ],
   "source": [
    "# read data: 30 ICs \n",
    "import nipype.interfaces.io as nio\n",
    "import os\n",
    "PD_ICA_file='/templateflow/PD_ICAs';\n",
    "ICs_list=list(range(30))\n",
    "ICs_list=[\"{:0>4d}\".format(x) for x in ICs_list]\n",
    "# file import\n",
    "ds_ic = nio.DataGrabber(infields=['IC_id'])\n",
    "ds_ic.inputs.base_directory = PD_ICA_file # database\n",
    "ds_ic.inputs.template = 'melodic_IC_%4s.nii.gz' # from cwd\n",
    "ds_ic.inputs.sort_filelist = True\n",
    "ds_ic.inputs.IC_id = ICs_list\n",
    "res_ic = ds_ic.run()\n",
    "ic_list=res_ic.outputs.outfiles\n",
    "# read data: 3 study groups by sub_list \n",
    "GROUPS=['PD','ET','NC']\n",
    "OUT_DIR='/output/PD_ICA/'\n",
    "SUB_LIST=[]; AGE_LIST=[]; JCOB_LIST=[];\n",
    "\n",
    "for group_name in GROUPS:\n",
    "    current_group=group_name\n",
    "    current_sub_list_file = '/codes/devel/PD_Marker/'+current_group+'_info_ICA.list'\n",
    "    # create dir for output\n",
    "    current_OUT_DIR=OUT_DIR+current_group+'/'\n",
    "    if not os.path.exists(current_OUT_DIR):\n",
    "        os.makedirs(current_OUT_DIR)\n",
    "    #read sub list\n",
    "    with open(current_sub_list_file, 'r') as f_sub:\n",
    "        sub_list_raw= f_sub.readlines()\n",
    "    sub_list = [x[0:-1].split('\\t')[0] for x in sub_list_raw] # remove \n",
    "    age_list = [int(x[0:-1].split('\\t')[1]) for x in sub_list_raw]\n",
    "    SUB_LIST.append(sub_list);  AGE_LIST.append(age_list);\n",
    "    N_sub=len(sub_list)\n",
    "    print(group_name, ': ', N_sub, sub_list, age_list)\n",
    "    # grab group Jacobians\n",
    "    ds_jacobian = nio.DataGrabber(infields=['sub_id'])\n",
    "    ds_jacobian.inputs.base_directory = current_OUT_DIR # database\n",
    "    ds_jacobian.inputs.template = '%s_desc-preproc_T1w_space-MNI2009c_Warp_Jacobian.nii.gz' # from cwd\n",
    "    ds_jacobian.inputs.sort_filelist = True\n",
    "    ds_jacobian.inputs.sub_id = sub_list\n",
    "    res_jacobian = ds_jacobian.run()\n",
    "    jacobian_list=res_jacobian.outputs.outfiles\n",
    "    JCOB_LIST.append(jacobian_list)\n",
    "pd_sub_list = SUB_LIST[0]; et_sub_list = SUB_LIST[1]; nc_sub_list = SUB_LIST[2]; \n",
    "pd_age_list = AGE_LIST[0]; et_age_list = AGE_LIST[1]; nc_age_list = AGE_LIST[2];\n",
    "pd_jaco_list=JCOB_LIST[0]; et_jaco_list=JCOB_LIST[1]; nc_jaco_list=JCOB_LIST[2];"
   ]
  },
  {
   "cell_type": "code",
   "execution_count": null,
   "metadata": {},
   "outputs": [],
   "source": [
    "# calculate image naive corr\n",
    "import nibabel as nib\n",
    "import numpy as np\n",
    "import time\n",
    "i_PD_IC=7\n",
    "PD_ICA_img=nib.load(ic_list[i_PD_IC]);\n",
    "def cal_groupCorr(ic_img, img_list):\n",
    "    import nibabel as nib\n",
    "    from nilearn.image import resample_to_img\n",
    "    from nilearn.image import math_img\n",
    "    from scipy import stats\n",
    "    x_list=[];\n",
    "    N_sub=len(img_list)\n",
    "    for i in range(N_sub):\n",
    "        sub_img=nib.load(img_list[i])\n",
    "        sub_img_re= resample_to_img(sub_img, ic_img)\n",
    "        ic_data = ic_img.get_fdata().reshape(-1);\n",
    "        nz_pos=np.flatnonzero(ic_data)\n",
    "        ic_val=list(ic_data.ravel()[nz_pos])\n",
    "        sub_dat = sub_img_re.get_fdata().reshape(-1);\n",
    "        sub_val=list(stats.zscore(sub_dat.ravel()[nz_pos]))\n",
    "        x_list.append(np.corrcoef(sub_val, ic_val)[0,1])\n",
    "    return x_list\n",
    "t0=time.time()\n",
    "pd_jaco_corr_list=[cal_groupCorr(nib.load(x), pd_jaco_list) for x in ic_list]; \n",
    "et_jaco_corr_list=[cal_groupCorr(nib.load(x), et_jaco_list) for x in ic_list]; \n",
    "nc_jaco_corr_list=[cal_groupCorr(nib.load(x), nc_jaco_list) for x in ic_list]; \n",
    "print(\"naive corr of 3 groups take: \", str(time.time()-t0))"
   ]
  },
  {
   "cell_type": "code",
   "execution_count": null,
   "metadata": {},
   "outputs": [],
   "source": [
    "#vis for naive corr\n",
    "import numpy as np\n",
    "def plot_corrICA(a, b, c):\n",
    "    al=np.zeros(len(a)); bl=np.zeros(len(b)); cl=np.zeros(len(c));\n",
    "    x=list(range(al+bl+cl))\n",
    "    fig, ax = plt.subplots(figsize=(8, 8))\n",
    "    ax.set_title('Group element-wise correlation', color='C0')\n",
    "    ax.plot(x[0:al-1], a,  label='PD: '+str(round(np.mean(a),4))+'~'+str(round(np.std(a),4)))\n",
    "    ax.plot(x[al:al+bl-1],b ,  label='NC: '+str(round(np.mean(b),4))+'~'+str(round(np.std(b),4)))\n",
    "    ax.plot(x[al+bl:al+bl+cl-1], c,  label='ET: '+str(round(np.mean(c),4))+'~'+str(round(np.std(c),4)))\n",
    "    ax.legend()\n",
    "plot_corrICA(pd_jaco_corr_list[], nc_jaco_corr_list[], et_jaco_corr_list[])"
   ]
  },
  {
   "cell_type": "code",
   "execution_count": 3,
   "metadata": {},
   "outputs": [
    {
     "ename": "ModuleNotFoundError",
     "evalue": "No module named 'nistats'",
     "output_type": "error",
     "traceback": [
      "\u001b[0;31m---------------------------------------------------------------------------\u001b[0m",
      "\u001b[0;31mModuleNotFoundError\u001b[0m                       Traceback (most recent call last)",
      "\u001b[0;32m<ipython-input-3-0a671988e589>\u001b[0m in \u001b[0;36m<module>\u001b[0;34m\u001b[0m\n\u001b[1;32m      1\u001b[0m \u001b[0;32mimport\u001b[0m \u001b[0mstatsmodels\u001b[0m\u001b[0;34m\u001b[0m\u001b[0m\n\u001b[0;32m----> 2\u001b[0;31m \u001b[0;32mimport\u001b[0m \u001b[0mnistats\u001b[0m\u001b[0;34m\u001b[0m\u001b[0m\n\u001b[0m",
      "\u001b[0;31mModuleNotFoundError\u001b[0m: No module named 'nistats'"
     ]
    }
   ],
   "source": [
    "import statsmodels\n",
    "import nistats"
   ]
  },
  {
   "cell_type": "code",
   "execution_count": null,
   "metadata": {},
   "outputs": [],
   "source": [
    "from scipy import stats\n",
    "print('T-test for PD vs NC', stats.ttest_ind(rvs1,rvs2))\n",
    "print('T-test for PD vs NC', stats.ttest_ind(rvs1,rvs2))"
   ]
  },
  {
   "cell_type": "code",
   "execution_count": null,
   "metadata": {},
   "outputs": [],
   "source": [
    "grou_names=['PD']*len(pd_jaco_x_list_mean)+['ET']*len(et_jaco_x_list_mean)+['NC']*len(nc_jaco_x_list_mean);\n",
    "age=pd_age_list+et_age_list+nc_age_list;\n",
    "group_ica_mean=pd_jaco_x_list_mean+et_jaco_x_list_mean+nc_jaco_x_list_mean;\n",
    "import pandas as pd\n",
    "df_1=pd.DataFrame({'group':grou_names, 'age':age, 'ica_mean': group_ica_mean})\n",
    "# generate a boxplot to see the data distribution by genotypes and years. Using boxplot, we can easily detect the \n",
    "# differences between different groups\n",
    "#sns.boxplot(x=\"group\", y=\"age\", hue=\"ica_mean\", data=df_1, palette=\"Set3\") \n",
    "#df_1.to_csv('data.csv')\n",
    "print(df_1)"
   ]
  },
  {
   "cell_type": "code",
   "execution_count": 19,
   "metadata": {},
   "outputs": [
    {
     "name": "stdout",
     "output_type": "stream",
     "text": [
      "<KeysViewHDF5 ['HDFVersion', 'ITKVersion', 'OSName', 'OSVersion', 'TransformGroup']>\n",
      "<KeysViewHDF5 ['TransformType']>\n"
     ]
    }
   ],
   "source": [
    "import pandas as pd\n",
    "df_1=pd.read_csv('data.csv')\n",
    "import statsmodels.api as sm\n",
    "from statsmodels.formula.api import ols\n",
    "# Ordinary Least Squares (OLS) model\n",
    "# C(Genotype):C(years) represent interaction term\n",
    "model= ols('ica_mean ~ (group) + (age) + (group):(age)', data=df_1).fit()\n",
    "anova_table = sm.stats.anova_lm(model, typ=3)\n",
    "model1= ols('ica_mean ~ (group) + (age)', data=df_1).fit()\n",
    "anova_table1 = sm.stats.anova_lm(model1, typ=3)"
   ]
  },
  {
   "cell_type": "code",
   "execution_count": null,
   "metadata": {},
   "outputs": [],
   "source": [
    "print(anova_table)\n",
    "print(model.conf_int())\n",
    "print(anova_table1)\n",
    "print(model1.conf_int())\n",
    "\n",
    "print(model.aic, model.bic)\n",
    "print(model1.aic, model1.bic)\n"
   ]
  },
  {
   "cell_type": "code",
   "execution_count": null,
   "metadata": {},
   "outputs": [],
   "source": []
  }
 ],
 "metadata": {
  "kernelspec": {
   "display_name": "Python 3",
   "language": "python",
   "name": "python3"
  },
  "language_info": {
   "codemirror_mode": {
    "name": "ipython",
    "version": 3
   },
   "file_extension": ".py",
   "mimetype": "text/x-python",
   "name": "python",
   "nbconvert_exporter": "python",
   "pygments_lexer": "ipython3",
   "version": "3.7.0"
  }
 },
 "nbformat": 4,
 "nbformat_minor": 4
}
