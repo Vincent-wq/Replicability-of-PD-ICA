{
 "cells": [
  {
   "cell_type": "code",
   "execution_count": 2,
   "metadata": {},
   "outputs": [
    {
     "name": "stdout",
     "output_type": "stream",
     "text": [
      "PD :  40\n",
      "ET :  29\n",
      "NC :  33\n"
     ]
    }
   ],
   "source": [
    "# visual confirmation of ICs\n",
    "# get 30 ICs \n",
    "import nipype.interfaces.io as nio\n",
    "import os\n",
    "PD_ICA_file='/templateflow/PD_ICAs';\n",
    "ICs_list=list(range(30))\n",
    "ICs_list=[\"{:0>4d}\".format(x) for x in ICs_list]\n",
    "# file import\n",
    "ds_ic = nio.DataGrabber(infields=['IC_id'])\n",
    "ds_ic.inputs.base_directory = PD_ICA_file # database\n",
    "ds_ic.inputs.template = 'melodic_IC_%4s.nii.gz' # from cwd\n",
    "ds_ic.inputs.sort_filelist = True\n",
    "ds_ic.inputs.IC_id = ICs_list\n",
    "res_ic = ds_ic.run()\n",
    "ic_list=res_ic.outputs.outfiles\n",
    "atlas_09_masked='/templateflow/tpl-MNI152NLin2009cAsym/tpl-MNI152NLin2009cAsym_res-02_T1w.nii.gz'\n",
    "GROUPS=['PD','ET','NC']\n",
    "OUT_DIR='/output/PD_ICA/'\n",
    "SUB_LIST=[]; AGE_LIST=[]; JCOB_LIST=[];\n",
    "\n",
    "for group_name in GROUPS:\n",
    "    current_group=group_name\n",
    "    current_sub_list_file = '/codes/devel/PD_Marker/'+current_group+'_info_ICA.list'\n",
    "    # create dir for output\n",
    "    current_OUT_DIR=OUT_DIR+current_group+'/'\n",
    "    if not os.path.exists(current_OUT_DIR):\n",
    "        os.makedirs(current_OUT_DIR)\n",
    "    #read sub list\n",
    "    with open(current_sub_list_file, 'r') as f_sub:\n",
    "        sub_list_raw= f_sub.readlines()\n",
    "    sub_list = [x[0:-1].split('\\t')[0] for x in sub_list_raw] # remove \n",
    "    age_list = [int(x[0:-1].split('\\t')[1]) for x in sub_list_raw]\n",
    "    SUB_LIST.append(sub_list);  AGE_LIST.append(age_list);\n",
    "    N_sub=len(sub_list)\n",
    "    print(group_name, ': ', N_sub)\n",
    "    # grab group Jacobians\n",
    "    ds_jacobian = nio.DataGrabber(infields=['sub_id'])\n",
    "    ds_jacobian.inputs.base_directory = current_OUT_DIR # database\n",
    "    ds_jacobian.inputs.template = '%s_desc-preproc_T1w_space-MNI2009c_Warp_Jacobian.nii.gz' # from cwd\n",
    "    ds_jacobian.inputs.sort_filelist = True\n",
    "    ds_jacobian.inputs.sub_id = sub_list\n",
    "    res_jacobian = ds_jacobian.run()\n",
    "    jacobian_list=res_jacobian.outputs.outfiles\n",
    "    JCOB_LIST.append(jacobian_list)\n",
    "pd_sub_list = SUB_LIST[0]; et_sub_list = SUB_LIST[1]; nc_sub_list = SUB_LIST[2]; \n",
    "pd_age_list = AGE_LIST[0]; et_age_list = AGE_LIST[1]; nc_age_list = AGE_LIST[2];\n",
    "pd_jaco_list=JCOB_LIST[0]; et_jaco_list=JCOB_LIST[1]; nc_jaco_list=JCOB_LIST[2];"
   ]
  },
  {
   "cell_type": "code",
   "execution_count": null,
   "metadata": {},
   "outputs": [],
   "source": [
    "# corr IC * subj\n",
    "import nibabel as nib\n",
    "import time\n",
    "ICx_OUT_DIR = '/output/PD_ICA/IC_Ximg/'\n",
    "N_IC=len(ic_list); N_PD=len(pd_sub_list); N_ET=len(et_sub_list) ;N_NC=len(nc_sub_list);\n",
    "nc_jaco_x_list=[]\n",
    "i_PD_IC=7\n",
    "PD_ICA_img=nib.load(ic_list[i_PD_IC]);\n",
    "\n",
    "def grab_group_corr_ICA_all_sv(ic_list, img_list, id_list, out_dir):\n",
    "    import nibabel as nib\n",
    "    from nilearn.image import resample_to_img\n",
    "    from nilearn.image import math_img\n",
    "    from scipy import stats\n",
    "    import numpy as np\n",
    "    x_list=[]; \n",
    "    N_ic=len(ic_list);\n",
    "    N_sub=len(img_list);\n",
    "    #print('gourp++')\n",
    "    for j in range(N_ic):\n",
    "        y_list=[]\n",
    "        for i in range(N_sub):\n",
    "            # cal img * img\n",
    "            ic_img=nib.load(ic_list[j])\n",
    "            sub_img=nib.load(img_list[i])\n",
    "            sub_img_re = resample_to_img(sub_img, ic_img)\n",
    "            #sub_img_x  = math_img(\"img1 * img2\", img1=ic_img, img2=sub_img_re)\n",
    "            #nib.save(sub_img_x, out_dir+id_list[i]+'-xIC'+str(j)+'.nii.gz');\n",
    "            # cal naive corr\n",
    "            ic_data = ic_img.get_fdata().reshape(-1);\n",
    "            nz_pos=np.flatnonzero(ic_data)\n",
    "            ic_val=list(ic_data.ravel()[nz_pos])\n",
    "            sub_dat = sub_img_re.get_fdata().reshape(-1);\n",
    "            sub_val=list(stats.zscore(sub_dat.ravel()[nz_pos]))\n",
    "            #_list.append([sub_img_x, np.corrcoef(sub_val, ic_val)[0,1]])\n",
    "            y_list.append(np.corrcoef(sub_val, ic_val)[0,1])\n",
    "        x_list.append(y_list)\n",
    "    return x_list\n",
    "##\n",
    "# just look at ic7\n",
    "ic7_list=[ic_list[i_PD_IC]]\n",
    "N_IC=len(ic_list); N_PD=len(pd_sub_list); N_ET=len(et_sub_list) ;N_NC=len(nc_sub_list);\n",
    "t0=time.time()\n",
    "nc_jaco_corr_list=grab_group_corr_ICA_all_sv(ic7_list, nc_jaco_list, nc_sub_list, ICx_OUT_DIR)\n",
    "print('NC group corr IC takes: ', str(time.time()-t0))\n",
    "pd_jaco_corr_list=grab_group_corr_ICA_all_sv(ic7_list, pd_jaco_list, pd_sub_list, ICx_OUT_DIR)\n",
    "print('NC+PD group corr IC takes: ', str(time.time()-t0))\n",
    "et_jaco_corr_list=grab_group_corr_ICA_all_sv(ic7_list, et_jaco_list, et_sub_list, ICx_OUT_DIR)\n",
    "print('all group corr IC takes: ', str(time.time()-t0))\n",
    "import pandas as pd\n",
    "ic7_corr=pd_jaco_corr_list[0]+et_jaco_corr_list[0]+nc_jaco_corr_list[0]\n",
    "ic_corr_lable=['PD']*N_PD+['ET']*N_ET+['NC']*N_NC\n",
    "group_corr=pd.DataFrame({'IC Correlation': ic7_corr, 'Study Group': ic_corr_lable})\n",
    "group_corr.to_csv('group_ic-sub_corr.csv')\n",
    "print(group_corr)"
   ]
  },
  {
   "cell_type": "code",
   "execution_count": 14,
   "metadata": {},
   "outputs": [],
   "source": [
    "# plot and sv Dagher 30 ICs\n",
    "from nilearn import plotting\n",
    "GROUPS=['PD','ET','NC']\n",
    "OUT_DIR='/output/PD_ICA/figs'\n",
    "atlas_09_masked='/templateflow/tpl-MNI152NLin2009cAsym/tpl-MNI152NLin2009cAsym_res-02_T1w.nii.gz'\n",
    "N_ic = len(ic_list)\n",
    "i_ic=7\n",
    "VMIN= 3; VMAX=16; # vmin=VMIN;\n",
    "#plotting.plot_glass_brain(ic_list[i_ic], title='no th '+str(i_ic)+', with TH=0', display_mode='lyrz',\n",
    "#                          black_bg=True, colorbar=True, plot_abs=False, vmin=VMIN, vmax=VMAX, threshold=5)\n",
    "plotting.plot_stat_map(ic_list[i_ic], bg_img=atlas_09_masked, display_mode='z', threshold=3, vmax=VMAX, \\\n",
    "                       title=\"PD-ICA Axial\", draw_cross=False, cut_coords=[-12, -7,  20], \\\n",
    "                       output_file=OUT_DIR+'/PD-ICA_Axial.png')\n",
    "plotting.plot_stat_map(ic_list[i_ic], bg_img=atlas_09_masked, display_mode='x', threshold=3, vmax=VMAX, \\\n",
    "                       title=\"PD-ICA Sagittal\", draw_cross=False, cut_coords=[-12, -7, 20], \\\n",
    "                      output_file=OUT_DIR+'/PD-ICA_Sagittal.png')\n",
    "plotting.plot_stat_map(ic_list[i_ic], bg_img=atlas_09_masked, display_mode='y', threshold=3, vmax=VMAX, \\\n",
    "                       title=\"PD-ICA Coronal\", draw_cross=False, cut_coords=[-12, -7, 20], \\\n",
    "                      output_file=OUT_DIR+'/PD-ICA_Coronal.png')"
   ]
  },
  {
   "cell_type": "code",
   "execution_count": 36,
   "metadata": {},
   "outputs": [
    {
     "data": {
      "image/png": "[encoded data removed]",
      "text/plain": [
       "<Figure size 576x432 with 1 Axes>"
      ]
     },
     "metadata": {
      "needs_background": "light"
     },
     "output_type": "display_data"
    }
   ],
   "source": [
    "#plot group corr\n",
    "import seaborn as sns\n",
    "import numpy as np\n",
    "import pandas as pd\n",
    "from matplotlib import pyplot as plt\n",
    "group_corr = pd.read_csv('group_ic-sub_corr.csv', sep=',', header=0, index_col=0)\n",
    "#group_corr=pd.DataFrame({'IC Correlation': ic7_corr, 'Study Group': ic_corr_lable})\n",
    "plt.figure(1, figsize=(8, 6))\n",
    "ax = sns.violinplot(x=\"Study Group\", y=\"IC Correlation\", data=group_corr, inner='point', )\n",
    "plt.savefig('group_corr.png')"
   ]
  },
  {
   "cell_type": "code",
   "execution_count": null,
   "metadata": {},
   "outputs": [],
   "source": [
    "import matplotlib.pyplot as plt\n",
    "import numpy as np\n",
    "plt.style.use({'figure.figsize':(12, 8)})\n",
    "vmin1=-.2; vmax1 = .2\n",
    "df=[df_1, df_2, df_3];\n",
    "# Fixing random state for reproducibility\n",
    "#np.random.seed(19680801)\n",
    "fig, axs = plt.subplots(1, 3)\n",
    "\n",
    "cm = ['RdBu_r', 'viridis']\n",
    "ax2 = axs[1]\n",
    "pcm2 = ax2.imshow(df_1, cmap=cm[0], vmin= vmin1, vmax = vmax1)\n",
    "ax2.set_title(\"y=IC, x=NC subjects\")\n",
    "#fig.colorbar(pcm1, ax=ax1)\n",
    "ax1 = axs[0]\n",
    "pcm1 = ax1.imshow(df_2, cmap=cm[0], vmin= vmin1, vmax = vmax1)\n",
    "ax1.set_title(\"y=IC, x=PD subjects\")\n",
    "ax3 = axs[2]\n",
    "pcm3 = ax3.imshow(df_3, cmap=cm[0], vmin= vmin1, vmax = vmax1)\n",
    "ax3.set_title(\"y=IC, x=ET subjects\")\n",
    "fig.colorbar(pcm3, ax=ax3)\n",
    "plt.show()"
   ]
  }
 ],
 "metadata": {
  "kernelspec": {
   "display_name": "Python 3",
   "language": "python",
   "name": "python3"
  },
  "language_info": {
   "codemirror_mode": {
    "name": "ipython",
    "version": 3
   },
   "file_extension": ".py",
   "mimetype": "text/x-python",
   "name": "python",
   "nbconvert_exporter": "python",
   "pygments_lexer": "ipython3",
   "version": "3.7.0"
  }
 },
 "nbformat": 4,
 "nbformat_minor": 4
}
