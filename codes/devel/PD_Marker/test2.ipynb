{
 "cells": [
  {
   "cell_type": "code",
   "execution_count": 1,
   "metadata": {},
   "outputs": [],
   "source": [
    "# get data lists\n",
    "from nipype.interfaces.ants import ANTS\n",
    "from nipype.interfaces import fsl\n",
    "import nipype.interfaces.io as nio\n",
    "\n",
    "#PD_LIST='/codes/PD_template_subjects.list';\n",
    "current_group='PD'\n",
    "SUB_LIST = '/codes/'+current_group+'_template_subjects.list'\n",
    "with open(SUB_LIST, 'r') as f_sub:\n",
    "    sub_list = f_sub.readlines()\n",
    "sub_list = [x[0:-1] for x in sub_list]\n",
    "\n",
    "# file import\n",
    "ds_T1 = nio.DataGrabber(infields=['subject_id', 'subject_id'])\n",
    "ds_T1.inputs.base_directory = '/data/'+current_group # database\n",
    "ds_T1.inputs.template = '%s/anat/%s_desc-preproc_T1w.nii.gz' # from cwd\n",
    "ds_T1.inputs.sort_filelist = True\n",
    "ds_T1.inputs.subject_id = sub_list\n",
    "res_T1 = ds_T1.run()\n",
    "t1_list=res_T1.outputs.outfiles\n",
    "# file import\n",
    "ds_9c = nio.DataGrabber(infields=['subject_id', 'subject_id'])\n",
    "ds_9c.inputs.base_directory = '/data/'+current_group # database\n",
    "ds_9c.inputs.template = '%s/anat/%s_space-MNI152NLin2009cAsym_desc-preproc_T1w.nii.gz' # from cwd\n",
    "ds_9c.inputs.sort_filelist = True\n",
    "ds_9c.inputs.subject_id = sub_list\n",
    "res_9c = ds_9c.run()\n",
    "res_9c_list=res_9c.outputs.outfiles\n",
    "# file import\n",
    "ds_mask = nio.DataGrabber(infields=['subject_id', 'subject_id'])\n",
    "ds_mask.inputs.base_directory = '/data/'+current_group # database\n",
    "ds_mask.inputs.template = '%s/anat/%s_desc-brain_mask.nii.gz'# from cwd\n",
    "ds_mask.inputs.sort_filelist = True\n",
    "ds_mask.inputs.subject_id = sub_list\n",
    "res_mask = ds_mask.run()\n",
    "t1_mask_list=res_mask.outputs.outfiles"
   ]
  },
  {
   "cell_type": "code",
   "execution_count": 19,
   "metadata": {},
   "outputs": [
    {
     "name": "stdout",
     "output_type": "stream",
     "text": [
      "<KeysViewHDF5 ['HDFVersion', 'ITKVersion', 'OSName', 'OSVersion', 'TransformGroup']>\n",
      "<KeysViewHDF5 ['TransformType']>\n"
     ]
    }
   ],
   "source": [
    "import h5py\n",
    "res_9c_list[0]\n",
    "warp_file='/data/PD/sub-0094/anat/sub-0094_from-T1w_to-MNI152NLin2009cAsym_mode-image_xfm.h5'\n",
    "\n",
    "f = h5py.File(warp_file,'r')\n",
    "print(f.keys())\n",
    "d=f['TransformGroup']\n",
    "print(d['0'].keys())\n",
    "#a = f['data'][:]\n",
    "#f.close()"
   ]
  },
  {
   "cell_type": "code",
   "execution_count": 43,
   "metadata": {},
   "outputs": [
    {
     "name": "stdout",
     "output_type": "stream",
     "text": [
      "200818-23:04:35,359 nipype.interface INFO:\n",
      "\t stderr 2020-08-18T23:04:35.359621:HDF5-DIAG: Error detected in HDF5 (1.8.7) thread 0:\n",
      "200818-23:04:35,367 nipype.interface INFO:\n",
      "\t stderr 2020-08-18T23:04:35.366780:  #000: /tmp/ANTs/build/ITKv4/Modules/ThirdParty/HDF5/src/itkhdf5/src/H5D.c line 334 in H5Dopen2(): not found\n",
      "200818-23:04:35,371 nipype.interface INFO:\n",
      "\t stderr 2020-08-18T23:04:35.366780:    major: Dataset\n",
      "200818-23:04:35,383 nipype.interface INFO:\n",
      "\t stderr 2020-08-18T23:04:35.366780:    minor: Object not found\n",
      "200818-23:04:35,384 nipype.interface INFO:\n",
      "\t stderr 2020-08-18T23:04:35.366780:  #001: /tmp/ANTs/build/ITKv4/Modules/ThirdParty/HDF5/src/itkhdf5/src/H5Gloc.c line 430 in H5G_loc_find(): can't find object\n",
      "200818-23:04:35,386 nipype.interface INFO:\n",
      "\t stderr 2020-08-18T23:04:35.366780:    major: Symbol table\n",
      "200818-23:04:35,388 nipype.interface INFO:\n",
      "\t stderr 2020-08-18T23:04:35.366780:    minor: Object not found\n",
      "200818-23:04:35,389 nipype.interface INFO:\n",
      "\t stderr 2020-08-18T23:04:35.366780:  #002: /tmp/ANTs/build/ITKv4/Modules/ThirdParty/HDF5/src/itkhdf5/src/H5Gtraverse.c line 905 in H5G_traverse(): internal path traversal failed\n",
      "200818-23:04:35,407 nipype.interface INFO:\n",
      "\t stderr 2020-08-18T23:04:35.366780:    major: Symbol table\n",
      "200818-23:04:35,427 nipype.interface INFO:\n",
      "\t stderr 2020-08-18T23:04:35.366780:    minor: Object not found\n",
      "200818-23:04:35,429 nipype.interface INFO:\n",
      "\t stderr 2020-08-18T23:04:35.366780:  #003: /tmp/ANTs/build/ITKv4/Modules/ThirdParty/HDF5/src/itkhdf5/src/H5Gtraverse.c line 799 in H5G_traverse_real(): component not found\n",
      "200818-23:04:35,430 nipype.interface INFO:\n",
      "\t stderr 2020-08-18T23:04:35.366780:    major: Symbol table\n",
      "200818-23:04:35,431 nipype.interface INFO:\n",
      "\t stderr 2020-08-18T23:04:35.366780:    minor: Object not found\n",
      "200818-23:04:35,433 nipype.interface INFO:\n",
      "\t stderr 2020-08-18T23:04:35.366780:terminate called after throwing an instance of 'itk::ExceptionObject'\n",
      "200818-23:04:35,434 nipype.interface INFO:\n",
      "\t stderr 2020-08-18T23:04:35.366780:  what():  /tmp/ANTs/build/ITKv4/Modules/IO/HDF5/src/itkHDF5ImageIO.cxx:909:\n",
      "200818-23:04:35,435 nipype.interface INFO:\n",
      "\t stderr 2020-08-18T23:04:35.366780:itk::ERROR: HDF5ImageIO(0x3136600): H5Dopen2 failed\n",
      "200818-23:04:35,707 nipype.interface INFO:\n",
      "\t stderr 2020-08-18T23:04:35.707494:Aborted (core dumped)\n"
     ]
    },
    {
     "ename": "RuntimeError",
     "evalue": "Command:\nCreateJacobianDeterminantImage 3 /data/PD/sub-0094/anat/sub-0094_from-T1w_to-MNI152NLin2009cAsym_mode-image_xfm.h5 /output/sMRI/test/Jacobian.nii.gz\nStandard output:\n\nStandard error:\nHDF5-DIAG: Error detected in HDF5 (1.8.7) thread 0:\n  #000: /tmp/ANTs/build/ITKv4/Modules/ThirdParty/HDF5/src/itkhdf5/src/H5D.c line 334 in H5Dopen2(): not found\n    major: Dataset\n    minor: Object not found\n  #001: /tmp/ANTs/build/ITKv4/Modules/ThirdParty/HDF5/src/itkhdf5/src/H5Gloc.c line 430 in H5G_loc_find(): can't find object\n    major: Symbol table\n    minor: Object not found\n  #002: /tmp/ANTs/build/ITKv4/Modules/ThirdParty/HDF5/src/itkhdf5/src/H5Gtraverse.c line 905 in H5G_traverse(): internal path traversal failed\n    major: Symbol table\n    minor: Object not found\n  #003: /tmp/ANTs/build/ITKv4/Modules/ThirdParty/HDF5/src/itkhdf5/src/H5Gtraverse.c line 799 in H5G_traverse_real(): component not found\n    major: Symbol table\n    minor: Object not found\nterminate called after throwing an instance of 'itk::ExceptionObject'\n  what():  /tmp/ANTs/build/ITKv4/Modules/IO/HDF5/src/itkHDF5ImageIO.cxx:909:\nitk::ERROR: HDF5ImageIO(0x3136600): H5Dopen2 failed\nAborted (core dumped)\nReturn code: 134",
     "output_type": "error",
     "traceback": [
      "\u001b[0;31m---------------------------------------------------------------------------\u001b[0m",
      "\u001b[0;31mRuntimeError\u001b[0m                              Traceback (most recent call last)",
      "\u001b[0;32m<ipython-input-43-3f94d89a0938>\u001b[0m in \u001b[0;36m<module>\u001b[0;34m\u001b[0m\n\u001b[1;32m     10\u001b[0m \u001b[0mjacobian\u001b[0m\u001b[0;34m.\u001b[0m\u001b[0minputs\u001b[0m\u001b[0;34m.\u001b[0m\u001b[0mnum_threads\u001b[0m \u001b[0;34m=\u001b[0m \u001b[0;36m6\u001b[0m\u001b[0;34m\u001b[0m\u001b[0m\n\u001b[1;32m     11\u001b[0m \u001b[0mjacobian\u001b[0m\u001b[0;34m.\u001b[0m\u001b[0mcmdline\u001b[0m\u001b[0;34m\u001b[0m\u001b[0m\n\u001b[0;32m---> 12\u001b[0;31m \u001b[0mjacobian\u001b[0m\u001b[0;34m.\u001b[0m\u001b[0mrun\u001b[0m\u001b[0;34m(\u001b[0m\u001b[0;34m)\u001b[0m\u001b[0;34m\u001b[0m\u001b[0m\n\u001b[0m",
      "\u001b[0;32m/usr/local/miniconda/lib/python3.7/site-packages/nipype/interfaces/base/core.py\u001b[0m in \u001b[0;36mrun\u001b[0;34m(self, cwd, ignore_exception, **inputs)\u001b[0m\n\u001b[1;32m    395\u001b[0m         \u001b[0;32mtry\u001b[0m\u001b[0;34m:\u001b[0m\u001b[0;34m\u001b[0m\u001b[0m\n\u001b[1;32m    396\u001b[0m             \u001b[0mruntime\u001b[0m \u001b[0;34m=\u001b[0m \u001b[0mself\u001b[0m\u001b[0;34m.\u001b[0m\u001b[0m_pre_run_hook\u001b[0m\u001b[0;34m(\u001b[0m\u001b[0mruntime\u001b[0m\u001b[0;34m)\u001b[0m\u001b[0;34m\u001b[0m\u001b[0m\n\u001b[0;32m--> 397\u001b[0;31m             \u001b[0mruntime\u001b[0m \u001b[0;34m=\u001b[0m \u001b[0mself\u001b[0m\u001b[0;34m.\u001b[0m\u001b[0m_run_interface\u001b[0m\u001b[0;34m(\u001b[0m\u001b[0mruntime\u001b[0m\u001b[0;34m)\u001b[0m\u001b[0;34m\u001b[0m\u001b[0m\n\u001b[0m\u001b[1;32m    398\u001b[0m             \u001b[0mruntime\u001b[0m \u001b[0;34m=\u001b[0m \u001b[0mself\u001b[0m\u001b[0;34m.\u001b[0m\u001b[0m_post_run_hook\u001b[0m\u001b[0;34m(\u001b[0m\u001b[0mruntime\u001b[0m\u001b[0;34m)\u001b[0m\u001b[0;34m\u001b[0m\u001b[0m\n\u001b[1;32m    399\u001b[0m             \u001b[0moutputs\u001b[0m \u001b[0;34m=\u001b[0m \u001b[0mself\u001b[0m\u001b[0;34m.\u001b[0m\u001b[0maggregate_outputs\u001b[0m\u001b[0;34m(\u001b[0m\u001b[0mruntime\u001b[0m\u001b[0;34m)\u001b[0m\u001b[0;34m\u001b[0m\u001b[0m\n",
      "\u001b[0;32m/usr/local/miniconda/lib/python3.7/site-packages/nipype/interfaces/base/core.py\u001b[0m in \u001b[0;36m_run_interface\u001b[0;34m(self, runtime, correct_return_codes)\u001b[0m\n\u001b[1;32m    790\u001b[0m         \u001b[0mruntime\u001b[0m \u001b[0;34m=\u001b[0m \u001b[0mrun_command\u001b[0m\u001b[0;34m(\u001b[0m\u001b[0mruntime\u001b[0m\u001b[0;34m,\u001b[0m \u001b[0moutput\u001b[0m\u001b[0;34m=\u001b[0m\u001b[0mself\u001b[0m\u001b[0;34m.\u001b[0m\u001b[0mterminal_output\u001b[0m\u001b[0;34m)\u001b[0m\u001b[0;34m\u001b[0m\u001b[0m\n\u001b[1;32m    791\u001b[0m         \u001b[0;32mif\u001b[0m \u001b[0mruntime\u001b[0m\u001b[0;34m.\u001b[0m\u001b[0mreturncode\u001b[0m \u001b[0;32mis\u001b[0m \u001b[0;32mNone\u001b[0m \u001b[0;32mor\u001b[0m \u001b[0mruntime\u001b[0m\u001b[0;34m.\u001b[0m\u001b[0mreturncode\u001b[0m \u001b[0;32mnot\u001b[0m \u001b[0;32min\u001b[0m \u001b[0mcorrect_return_codes\u001b[0m\u001b[0;34m:\u001b[0m\u001b[0;34m\u001b[0m\u001b[0m\n\u001b[0;32m--> 792\u001b[0;31m             \u001b[0mself\u001b[0m\u001b[0;34m.\u001b[0m\u001b[0mraise_exception\u001b[0m\u001b[0;34m(\u001b[0m\u001b[0mruntime\u001b[0m\u001b[0;34m)\u001b[0m\u001b[0;34m\u001b[0m\u001b[0m\n\u001b[0m\u001b[1;32m    793\u001b[0m \u001b[0;34m\u001b[0m\u001b[0m\n\u001b[1;32m    794\u001b[0m         \u001b[0;32mreturn\u001b[0m \u001b[0mruntime\u001b[0m\u001b[0;34m\u001b[0m\u001b[0m\n",
      "\u001b[0;32m/usr/local/miniconda/lib/python3.7/site-packages/nipype/interfaces/base/core.py\u001b[0m in \u001b[0;36mraise_exception\u001b[0;34m(self, runtime)\u001b[0m\n\u001b[1;32m    721\u001b[0m                 \u001b[0;34m\"Command:\\n{cmdline}\\nStandard output:\\n{stdout}\\n\"\u001b[0m\u001b[0;34m\u001b[0m\u001b[0m\n\u001b[1;32m    722\u001b[0m                 \u001b[0;34m\"Standard error:\\n{stderr}\\nReturn code: {returncode}\"\u001b[0m\u001b[0;34m\u001b[0m\u001b[0m\n\u001b[0;32m--> 723\u001b[0;31m             ).format(**runtime.dictcopy())\n\u001b[0m\u001b[1;32m    724\u001b[0m         )\n\u001b[1;32m    725\u001b[0m \u001b[0;34m\u001b[0m\u001b[0m\n",
      "\u001b[0;31mRuntimeError\u001b[0m: Command:\nCreateJacobianDeterminantImage 3 /data/PD/sub-0094/anat/sub-0094_from-T1w_to-MNI152NLin2009cAsym_mode-image_xfm.h5 /output/sMRI/test/Jacobian.nii.gz\nStandard output:\n\nStandard error:\nHDF5-DIAG: Error detected in HDF5 (1.8.7) thread 0:\n  #000: /tmp/ANTs/build/ITKv4/Modules/ThirdParty/HDF5/src/itkhdf5/src/H5D.c line 334 in H5Dopen2(): not found\n    major: Dataset\n    minor: Object not found\n  #001: /tmp/ANTs/build/ITKv4/Modules/ThirdParty/HDF5/src/itkhdf5/src/H5Gloc.c line 430 in H5G_loc_find(): can't find object\n    major: Symbol table\n    minor: Object not found\n  #002: /tmp/ANTs/build/ITKv4/Modules/ThirdParty/HDF5/src/itkhdf5/src/H5Gtraverse.c line 905 in H5G_traverse(): internal path traversal failed\n    major: Symbol table\n    minor: Object not found\n  #003: /tmp/ANTs/build/ITKv4/Modules/ThirdParty/HDF5/src/itkhdf5/src/H5Gtraverse.c line 799 in H5G_traverse_real(): component not found\n    major: Symbol table\n    minor: Object not found\nterminate called after throwing an instance of 'itk::ExceptionObject'\n  what():  /tmp/ANTs/build/ITKv4/Modules/IO/HDF5/src/itkHDF5ImageIO.cxx:909:\nitk::ERROR: HDF5ImageIO(0x3136600): H5Dopen2 failed\nAborted (core dumped)\nReturn code: 134"
     ]
    }
   ],
   "source": [
    "# Jacobian of deformation field\n",
    "from nipype.interfaces import fsl\n",
    "from nipype.interfaces.ants import ANTS, ApplyTransforms,CreateJacobianDeterminantImage\n",
    "import os,time\n",
    "t1_deformed_jacobian='/output/sMRI/test/Jacobian.nii.gz'\n",
    "warp_file='/data/PD/sub-0094/anat/sub-0094_from-T1w_to-MNI152NLin2009cAsym_mode-image_xfm.h5'\n",
    "jacobian = CreateJacobianDeterminantImage()\n",
    "jacobian.inputs.imageDimension = 3\n",
    "jacobian.inputs.deformationField = warp_file\n",
    "jacobian.inputs.outputImage = t1_deformed_jacobian\n",
    "jacobian.inputs.num_threads = 6\n",
    "jacobian.cmdline\n",
    "jacobian.run()\n"
   ]
  },
  {
   "cell_type": "code",
   "execution_count": 42,
   "metadata": {},
   "outputs": [
    {
     "name": "stdout",
     "output_type": "stream",
     "text": [
      "200818-23:03:46,914 nipype.interface INFO:\n",
      "\t stderr 2020-08-18T23:03:46.913895:HDF5-DIAG: Error detected in HDF5 (1.8.7) thread 0:\n",
      "200818-23:03:46,918 nipype.interface INFO:\n",
      "\t stderr 2020-08-18T23:03:46.913895:  #000: /tmp/ANTs/build/ITKv4/Modules/ThirdParty/HDF5/src/itkhdf5/src/H5D.c line 334 in H5Dopen2(): not found\n",
      "200818-23:03:46,920 nipype.interface INFO:\n",
      "\t stderr 2020-08-18T23:03:46.913895:    major: Dataset\n",
      "200818-23:03:46,926 nipype.interface INFO:\n",
      "\t stderr 2020-08-18T23:03:46.913895:    minor: Object not found\n",
      "200818-23:03:46,931 nipype.interface INFO:\n",
      "\t stderr 2020-08-18T23:03:46.913895:  #001: /tmp/ANTs/build/ITKv4/Modules/ThirdParty/HDF5/src/itkhdf5/src/H5Gloc.c line 430 in H5G_loc_find(): can't find object\n",
      "200818-23:03:46,935 nipype.interface INFO:\n",
      "\t stderr 2020-08-18T23:03:46.913895:    major: Symbol table\n",
      "200818-23:03:46,944 nipype.interface INFO:\n",
      "\t stderr 2020-08-18T23:03:46.913895:    minor: Object not found\n",
      "200818-23:03:46,946 nipype.interface INFO:\n",
      "\t stderr 2020-08-18T23:03:46.913895:  #002: /tmp/ANTs/build/ITKv4/Modules/ThirdParty/HDF5/src/itkhdf5/src/H5Gtraverse.c line 905 in H5G_traverse(): internal path traversal failed\n",
      "200818-23:03:46,948 nipype.interface INFO:\n",
      "\t stderr 2020-08-18T23:03:46.913895:    major: Symbol table\n",
      "200818-23:03:46,949 nipype.interface INFO:\n",
      "\t stderr 2020-08-18T23:03:46.913895:    minor: Object not found\n",
      "200818-23:03:46,950 nipype.interface INFO:\n",
      "\t stderr 2020-08-18T23:03:46.913895:  #003: /tmp/ANTs/build/ITKv4/Modules/ThirdParty/HDF5/src/itkhdf5/src/H5Gtraverse.c line 799 in H5G_traverse_real(): component not found\n",
      "200818-23:03:46,952 nipype.interface INFO:\n",
      "\t stderr 2020-08-18T23:03:46.913895:    major: Symbol table\n",
      "200818-23:03:46,953 nipype.interface INFO:\n",
      "\t stderr 2020-08-18T23:03:46.913895:    minor: Object not found\n",
      "200818-23:03:46,958 nipype.interface INFO:\n",
      "\t stderr 2020-08-18T23:03:46.958678:terminate called after throwing an instance of 'itk::ExceptionObject'\n",
      "200818-23:03:46,960 nipype.interface INFO:\n",
      "\t stderr 2020-08-18T23:03:46.958678:  what():  /tmp/ANTs/build/ITKv4/Modules/IO/HDF5/src/itkHDF5ImageIO.cxx:909:\n",
      "200818-23:03:46,962 nipype.interface INFO:\n",
      "\t stderr 2020-08-18T23:03:46.958678:itk::ERROR: HDF5ImageIO(0x32da600): H5Dopen2 failed\n",
      "200818-23:03:47,311 nipype.interface INFO:\n",
      "\t stderr 2020-08-18T23:03:47.311010:Aborted (core dumped)\n"
     ]
    },
    {
     "ename": "RuntimeError",
     "evalue": "Command:\nCreateJacobianDeterminantImage 3 /data/PD/sub-0094/anat/sub-0094_from-T1w_to-MNI152NLin2009cAsym_mode-image_xfm.h5 /output/sMRI/test/Jacobian.nii.gz\nStandard output:\n\nStandard error:\nHDF5-DIAG: Error detected in HDF5 (1.8.7) thread 0:\n  #000: /tmp/ANTs/build/ITKv4/Modules/ThirdParty/HDF5/src/itkhdf5/src/H5D.c line 334 in H5Dopen2(): not found\n    major: Dataset\n    minor: Object not found\n  #001: /tmp/ANTs/build/ITKv4/Modules/ThirdParty/HDF5/src/itkhdf5/src/H5Gloc.c line 430 in H5G_loc_find(): can't find object\n    major: Symbol table\n    minor: Object not found\n  #002: /tmp/ANTs/build/ITKv4/Modules/ThirdParty/HDF5/src/itkhdf5/src/H5Gtraverse.c line 905 in H5G_traverse(): internal path traversal failed\n    major: Symbol table\n    minor: Object not found\n  #003: /tmp/ANTs/build/ITKv4/Modules/ThirdParty/HDF5/src/itkhdf5/src/H5Gtraverse.c line 799 in H5G_traverse_real(): component not found\n    major: Symbol table\n    minor: Object not found\nterminate called after throwing an instance of 'itk::ExceptionObject'\n  what():  /tmp/ANTs/build/ITKv4/Modules/IO/HDF5/src/itkHDF5ImageIO.cxx:909:\nitk::ERROR: HDF5ImageIO(0x32da600): H5Dopen2 failed\nAborted (core dumped)\nReturn code: 134",
     "output_type": "error",
     "traceback": [
      "\u001b[0;31m---------------------------------------------------------------------------\u001b[0m",
      "\u001b[0;31mRuntimeError\u001b[0m                              Traceback (most recent call last)",
      "\u001b[0;32m<ipython-input-42-3f94d89a0938>\u001b[0m in \u001b[0;36m<module>\u001b[0;34m\u001b[0m\n\u001b[1;32m     10\u001b[0m \u001b[0mjacobian\u001b[0m\u001b[0;34m.\u001b[0m\u001b[0minputs\u001b[0m\u001b[0;34m.\u001b[0m\u001b[0mnum_threads\u001b[0m \u001b[0;34m=\u001b[0m \u001b[0;36m6\u001b[0m\u001b[0;34m\u001b[0m\u001b[0m\n\u001b[1;32m     11\u001b[0m \u001b[0mjacobian\u001b[0m\u001b[0;34m.\u001b[0m\u001b[0mcmdline\u001b[0m\u001b[0;34m\u001b[0m\u001b[0m\n\u001b[0;32m---> 12\u001b[0;31m \u001b[0mjacobian\u001b[0m\u001b[0;34m.\u001b[0m\u001b[0mrun\u001b[0m\u001b[0;34m(\u001b[0m\u001b[0;34m)\u001b[0m\u001b[0;34m\u001b[0m\u001b[0m\n\u001b[0m",
      "\u001b[0;32m/usr/local/miniconda/lib/python3.7/site-packages/nipype/interfaces/base/core.py\u001b[0m in \u001b[0;36mrun\u001b[0;34m(self, cwd, ignore_exception, **inputs)\u001b[0m\n\u001b[1;32m    395\u001b[0m         \u001b[0;32mtry\u001b[0m\u001b[0;34m:\u001b[0m\u001b[0;34m\u001b[0m\u001b[0m\n\u001b[1;32m    396\u001b[0m             \u001b[0mruntime\u001b[0m \u001b[0;34m=\u001b[0m \u001b[0mself\u001b[0m\u001b[0;34m.\u001b[0m\u001b[0m_pre_run_hook\u001b[0m\u001b[0;34m(\u001b[0m\u001b[0mruntime\u001b[0m\u001b[0;34m)\u001b[0m\u001b[0;34m\u001b[0m\u001b[0m\n\u001b[0;32m--> 397\u001b[0;31m             \u001b[0mruntime\u001b[0m \u001b[0;34m=\u001b[0m \u001b[0mself\u001b[0m\u001b[0;34m.\u001b[0m\u001b[0m_run_interface\u001b[0m\u001b[0;34m(\u001b[0m\u001b[0mruntime\u001b[0m\u001b[0;34m)\u001b[0m\u001b[0;34m\u001b[0m\u001b[0m\n\u001b[0m\u001b[1;32m    398\u001b[0m             \u001b[0mruntime\u001b[0m \u001b[0;34m=\u001b[0m \u001b[0mself\u001b[0m\u001b[0;34m.\u001b[0m\u001b[0m_post_run_hook\u001b[0m\u001b[0;34m(\u001b[0m\u001b[0mruntime\u001b[0m\u001b[0;34m)\u001b[0m\u001b[0;34m\u001b[0m\u001b[0m\n\u001b[1;32m    399\u001b[0m             \u001b[0moutputs\u001b[0m \u001b[0;34m=\u001b[0m \u001b[0mself\u001b[0m\u001b[0;34m.\u001b[0m\u001b[0maggregate_outputs\u001b[0m\u001b[0;34m(\u001b[0m\u001b[0mruntime\u001b[0m\u001b[0;34m)\u001b[0m\u001b[0;34m\u001b[0m\u001b[0m\n",
      "\u001b[0;32m/usr/local/miniconda/lib/python3.7/site-packages/nipype/interfaces/base/core.py\u001b[0m in \u001b[0;36m_run_interface\u001b[0;34m(self, runtime, correct_return_codes)\u001b[0m\n\u001b[1;32m    790\u001b[0m         \u001b[0mruntime\u001b[0m \u001b[0;34m=\u001b[0m \u001b[0mrun_command\u001b[0m\u001b[0;34m(\u001b[0m\u001b[0mruntime\u001b[0m\u001b[0;34m,\u001b[0m \u001b[0moutput\u001b[0m\u001b[0;34m=\u001b[0m\u001b[0mself\u001b[0m\u001b[0;34m.\u001b[0m\u001b[0mterminal_output\u001b[0m\u001b[0;34m)\u001b[0m\u001b[0;34m\u001b[0m\u001b[0m\n\u001b[1;32m    791\u001b[0m         \u001b[0;32mif\u001b[0m \u001b[0mruntime\u001b[0m\u001b[0;34m.\u001b[0m\u001b[0mreturncode\u001b[0m \u001b[0;32mis\u001b[0m \u001b[0;32mNone\u001b[0m \u001b[0;32mor\u001b[0m \u001b[0mruntime\u001b[0m\u001b[0;34m.\u001b[0m\u001b[0mreturncode\u001b[0m \u001b[0;32mnot\u001b[0m \u001b[0;32min\u001b[0m \u001b[0mcorrect_return_codes\u001b[0m\u001b[0;34m:\u001b[0m\u001b[0;34m\u001b[0m\u001b[0m\n\u001b[0;32m--> 792\u001b[0;31m             \u001b[0mself\u001b[0m\u001b[0;34m.\u001b[0m\u001b[0mraise_exception\u001b[0m\u001b[0;34m(\u001b[0m\u001b[0mruntime\u001b[0m\u001b[0;34m)\u001b[0m\u001b[0;34m\u001b[0m\u001b[0m\n\u001b[0m\u001b[1;32m    793\u001b[0m \u001b[0;34m\u001b[0m\u001b[0m\n\u001b[1;32m    794\u001b[0m         \u001b[0;32mreturn\u001b[0m \u001b[0mruntime\u001b[0m\u001b[0;34m\u001b[0m\u001b[0m\n",
      "\u001b[0;32m/usr/local/miniconda/lib/python3.7/site-packages/nipype/interfaces/base/core.py\u001b[0m in \u001b[0;36mraise_exception\u001b[0;34m(self, runtime)\u001b[0m\n\u001b[1;32m    721\u001b[0m                 \u001b[0;34m\"Command:\\n{cmdline}\\nStandard output:\\n{stdout}\\n\"\u001b[0m\u001b[0;34m\u001b[0m\u001b[0m\n\u001b[1;32m    722\u001b[0m                 \u001b[0;34m\"Standard error:\\n{stderr}\\nReturn code: {returncode}\"\u001b[0m\u001b[0;34m\u001b[0m\u001b[0m\n\u001b[0;32m--> 723\u001b[0;31m             ).format(**runtime.dictcopy())\n\u001b[0m\u001b[1;32m    724\u001b[0m         )\n\u001b[1;32m    725\u001b[0m \u001b[0;34m\u001b[0m\u001b[0m\n",
      "\u001b[0;31mRuntimeError\u001b[0m: Command:\nCreateJacobianDeterminantImage 3 /data/PD/sub-0094/anat/sub-0094_from-T1w_to-MNI152NLin2009cAsym_mode-image_xfm.h5 /output/sMRI/test/Jacobian.nii.gz\nStandard output:\n\nStandard error:\nHDF5-DIAG: Error detected in HDF5 (1.8.7) thread 0:\n  #000: /tmp/ANTs/build/ITKv4/Modules/ThirdParty/HDF5/src/itkhdf5/src/H5D.c line 334 in H5Dopen2(): not found\n    major: Dataset\n    minor: Object not found\n  #001: /tmp/ANTs/build/ITKv4/Modules/ThirdParty/HDF5/src/itkhdf5/src/H5Gloc.c line 430 in H5G_loc_find(): can't find object\n    major: Symbol table\n    minor: Object not found\n  #002: /tmp/ANTs/build/ITKv4/Modules/ThirdParty/HDF5/src/itkhdf5/src/H5Gtraverse.c line 905 in H5G_traverse(): internal path traversal failed\n    major: Symbol table\n    minor: Object not found\n  #003: /tmp/ANTs/build/ITKv4/Modules/ThirdParty/HDF5/src/itkhdf5/src/H5Gtraverse.c line 799 in H5G_traverse_real(): component not found\n    major: Symbol table\n    minor: Object not found\nterminate called after throwing an instance of 'itk::ExceptionObject'\n  what():  /tmp/ANTs/build/ITKv4/Modules/IO/HDF5/src/itkHDF5ImageIO.cxx:909:\nitk::ERROR: HDF5ImageIO(0x32da600): H5Dopen2 failed\nAborted (core dumped)\nReturn code: 134"
     ]
    }
   ],
   "source": []
  },
  {
   "cell_type": "code",
   "execution_count": null,
   "metadata": {},
   "outputs": [],
   "source": []
  }
 ],
 "metadata": {
  "kernelspec": {
   "display_name": "Python 3",
   "language": "python",
   "name": "python3"
  },
  "language_info": {
   "codemirror_mode": {
    "name": "ipython",
    "version": 3
   },
   "file_extension": ".py",
   "mimetype": "text/x-python",
   "name": "python",
   "nbconvert_exporter": "python",
   "pygments_lexer": "ipython3",
   "version": "3.7.0"
  }
 },
 "nbformat": 4,
 "nbformat_minor": 4
}
