{
 "cells": [
  {
   "cell_type": "code",
   "execution_count": null,
   "metadata": {},
   "outputs": [],
   "source": []
  },
  {
   "cell_type": "code",
   "execution_count": 19,
   "metadata": {},
   "outputs": [
    {
     "name": "stdout",
     "output_type": "stream",
     "text": [
      "<KeysViewHDF5 ['HDFVersion', 'ITKVersion', 'OSName', 'OSVersion', 'TransformGroup']>\n",
      "<KeysViewHDF5 ['TransformType']>\n"
     ]
    }
   ],
   "source": [
    "#.h3 w+r\n",
    "import h5py\n",
    "res_9c_list[0]\n",
    "warp_file='/data/PD/sub-0094/anat/sub-0094_from-T1w_to-MNI152NLin2009cAsym_mode-image_xfm.h5'\n",
    "\n",
    "f = h5py.File(warp_file,'r')\n",
    "print(f.keys())\n",
    "d=f['TransformGroup']\n",
    "print(d['0'].keys())\n",
    "#a = f['data'][:]\n",
    "#f.close()"
   ]
  }
 ],
 "metadata": {
  "kernelspec": {
   "display_name": "Python 3",
   "language": "python",
   "name": "python3"
  },
  "language_info": {
   "codemirror_mode": {
    "name": "ipython",
    "version": 3
   },
   "file_extension": ".py",
   "mimetype": "text/x-python",
   "name": "python",
   "nbconvert_exporter": "python",
   "pygments_lexer": "ipython3",
   "version": "3.7.0"
  }
 },
 "nbformat": 4,
 "nbformat_minor": 4
}
