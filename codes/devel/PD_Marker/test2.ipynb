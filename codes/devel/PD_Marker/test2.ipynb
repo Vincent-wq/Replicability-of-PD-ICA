{
 "cells": [
  {
   "cell_type": "code",
   "execution_count": 1,
   "metadata": {},
   "outputs": [
    {
     "ename": "SyntaxError",
     "evalue": "EOL while scanning string literal (<ipython-input-1-b733c18e1339>, line 1)",
     "output_type": "error",
     "traceback": [
      "\u001b[0;36m  File \u001b[0;32m\"<ipython-input-1-b733c18e1339>\"\u001b[0;36m, line \u001b[0;32m1\u001b[0m\n\u001b[0;31m    a=\"sub-0044\u001b[0m\n\u001b[0m               ^\u001b[0m\n\u001b[0;31mSyntaxError\u001b[0m\u001b[0;31m:\u001b[0m EOL while scanning string literal\n"
     ]
    }
   ],
   "source": [
    "sub-0044,\n",
    "sub-0057,\n",
    "sub-0082,\n",
    "sub-0066,\n",
    "sub-0039,\n",
    "sub-0043,\n",
    "sub-0108,\n",
    "sub-0078,\n",
    "sub-0085,\n",
    "sub-0072,\n",
    "sub-0064,\n",
    "sub-0042,\n",
    "sub-0080,\n",
    "sub-0110,\n",
    "sub-0106,\n",
    "sub-0058,\n",
    "sub-0060,\n",
    "sub-0073,\n",
    "sub-0104,\n",
    "sub-0041,\n",
    "sub-0077,\n",
    "sub-0124,\n",
    "sub-0130,\n",
    "sub-0113,\n",
    "sub-0128,\n",
    "sub-0121,\n",
    "sub-0102,\n",
    "sub-0079,\n",
    "sub-0083,\n",
    "sub-0107,\n",
    "sub-0100,\n",
    "sub-0117,\n",
    "sub-0053,\n",
    "sub-0062,\n",
    "sub-0071,\n"
   ]
  },
  {
   "cell_type": "code",
   "execution_count": null,
   "metadata": {},
   "outputs": [],
   "source": []
  },
  {
   "cell_type": "code",
   "execution_count": 19,
   "metadata": {},
   "outputs": [
    {
     "name": "stdout",
     "output_type": "stream",
     "text": [
      "<KeysViewHDF5 ['HDFVersion', 'ITKVersion', 'OSName', 'OSVersion', 'TransformGroup']>\n",
      "<KeysViewHDF5 ['TransformType']>\n"
     ]
    }
   ],
   "source": [
    "#.h3 w+r\n",
    "import h5py\n",
    "res_9c_list[0]\n",
    "warp_file='/data/PD/sub-0094/anat/sub-0094_from-T1w_to-MNI152NLin2009cAsym_mode-image_xfm.h5'\n",
    "\n",
    "f = h5py.File(warp_file,'r')\n",
    "print(f.keys())\n",
    "d=f['TransformGroup']\n",
    "print(d['0'].keys())\n",
    "#a = f['data'][:]\n",
    "#f.close()"
   ]
  }
 ],
 "metadata": {
  "kernelspec": {
   "display_name": "Python 3",
   "language": "python",
   "name": "python3"
  },
  "language_info": {
   "codemirror_mode": {
    "name": "ipython",
    "version": 3
   },
   "file_extension": ".py",
   "mimetype": "text/x-python",
   "name": "python",
   "nbconvert_exporter": "python",
   "pygments_lexer": "ipython3",
   "version": "3.7.0"
  }
 },
 "nbformat": 4,
 "nbformat_minor": 4
}
