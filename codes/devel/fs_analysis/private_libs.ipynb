{
 "cells": [
  {
   "cell_type": "code",
   "execution_count": 5,
   "metadata": {},
   "outputs": [
    {
     "name": "stdout",
     "output_type": "stream",
     "text": [
      "sub_0027 : \n",
      "\t eTIV :  1678632.04462\n",
      "\t Cerebellum_Cortex :  91251.79999999999\n",
      "\t Cerebellum_Cortex_r :  0.05436081140739637\n",
      "sub_0012 : \n",
      "\t eTIV :  1323749.89026\n",
      "\t Cerebellum_Cortex :  119750.2\n",
      "\t Cerebellum_Cortex_r :  0.09046285924637898\n"
     ]
    }
   ],
   "source": [
    "# check subject feature values\n",
    "curr_data[curr_data['Cerebellum_Cortex_r']>0.1]\n",
    "#max(curr_data['Cerebellum_Cortex_r']) # sub_0073\n",
    "def peep_sub(data, sub_name, features):\n",
    "    print(sub_name,': ')\n",
    "    for x in features:\n",
    "        print('\\t' ,x, ': ', data.loc[sub_name, x])\n",
    "        \n",
    "peep_sub(curr_data, 'sub_0027', [ 'eTIV', 'Cerebellum_Cortex', 'Cerebellum_Cortex_r'])\n",
    "peep_sub(curr_data, 'sub_0012', [ 'eTIV', 'Cerebellum_Cortex', 'Cerebellum_Cortex_r'])"
   ]
  },
  {
   "cell_type": "code",
   "execution_count": null,
   "metadata": {},
   "outputs": [],
   "source": [
    "# one way ANOVA\n",
    "f_res=stats.f_oneway(tmp_data['Cerebellum-Cortex_AgeSexRemoved'][tmp_data['diagnosis'] == 'PD'],\n",
    "                     tmp_data['Cerebellum-Cortex_AgeSexRemoved'][tmp_data['diagnosis'] == 'NC'])\n",
    "\"\"\"\n",
    "The function below was created specifically for the one-way ANOVA table results returned for Type II sum of squares\n",
    "\"\"\"\n",
    "def anova_table(aov):\n",
    "    aov['mean_sq'] = aov[:]['sum_sq']/aov[:]['df']\n",
    "\n",
    "    aov['eta_sq'] = aov[:-1]['sum_sq']/sum(aov['sum_sq'])\n",
    "\n",
    "    aov['omega_sq'] = (aov[:-1]['sum_sq']-(aov[:-1]['df']*aov['mean_sq'][-1]))/(sum(aov['sum_sq'])+aov['mean_sq'][-1])\n",
    "\n",
    "    cols = ['sum_sq', 'df', 'mean_sq', 'F', 'PR(>F)', 'eta_sq', 'omega_sq']\n",
    "    aov = aov[cols]\n",
    "    return aov\n",
    "print(rp.summary_cont(tmp_data['Cerebellum-Cortex_r'].groupby(tmp_data['diagnosis'])))\n",
    "print(rp.summary_cont(tmp_data['Cerebellum-White-Matter_r'].groupby(tmp_data['diagnosis'])))"
   ]
  },
  {
   "cell_type": "code",
   "execution_count": null,
   "metadata": {},
   "outputs": [],
   "source": [
    "# simpler model also works, and log scale works well for volumes.\n",
    "def comp_models(data, var_):\n",
    "    import numpy as np\n",
    "    dat_ = data.copy(); var_log = var_+'_log';\n",
    "    dat_[var_+'_log'] = np.log10(dat_[var_]); dat_['eTIV_log'] = np.log10(dat_['eTIV']);\n",
    "    f1 = var_log +'~C(diagnosis, Treatment(reference=\"NC\"))'; m1 = smf.glm(formula=f1, data=dat_); r1 = m1.fit();\n",
    "    f2 = var_log +'~sex+C(diagnosis, Treatment(reference=\"NC\"))'; m2 = smf.glm(formula=f2, data=dat_); r2 = m2.fit();\n",
    "    f3 = var_log +'~sex+age+C(diagnosis, Treatment(reference=\"NC\"))'; m3 = smf.glm(formula=f3, data=dat_); r3 = m3.fit();\n",
    "    f4 = var_log +'~sex+age+eTIV_log+C(diagnosis, Treatment(reference=\"NC\"))'; m4 = smf.glm(formula=f4, data=dat_); r4 = m4.fit();\n",
    "    f5 = var_log +'~age+sex*eTIV_log+C(diagnosis, Treatment(reference=\"NC\"))'; m5 = smf.glm(formula=f5, data=dat_); r5 = m5.fit();\n",
    "    f6 = var_ +'~sex+age+eTIV+C(diagnosis, Treatment(reference=\"NC\"))'; m6 = smf.glm(formula=f6, data=dat_); r6 = m6.fit();\n",
    "    f7 = var_ +'~age+sex*eTIV+C(diagnosis, Treatment(reference=\"NC\"))'; m7 = smf.glm(formula=f7, data=dat_); r7 = m7.fit();\n",
    "    res_list = [r1, r2, r3, r4, r5, r6, r7];\n",
    "    return res_list\n",
    "tar_list = ['Cerebellum_Cortex','Cerebellum_White_Matter','Left_Cerebellum_Cortex','Left_Cerebellum_White_Matter',\n",
    "            'Right_Cerebellum_Cortex','Right_Cerebellum_White_Matter'];\n",
    "\n",
    "res_list = comp_models(curr_data, tar_list[0])\n",
    "for item_ in res_list:\n",
    "    print(item_.summary2())"
   ]
  }
 ],
 "metadata": {
  "kernelspec": {
   "display_name": "Python 3",
   "language": "python",
   "name": "python3"
  },
  "language_info": {
   "codemirror_mode": {
    "name": "ipython",
    "version": 3
   },
   "file_extension": ".py",
   "mimetype": "text/x-python",
   "name": "python",
   "nbconvert_exporter": "python",
   "pygments_lexer": "ipython3",
   "version": "3.7.0"
  }
 },
 "nbformat": 4,
 "nbformat_minor": 4
}
