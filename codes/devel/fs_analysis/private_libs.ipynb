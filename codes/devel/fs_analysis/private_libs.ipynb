{
 "cells": [
  {
   "cell_type": "code",
   "execution_count": 5,
   "metadata": {},
   "outputs": [
    {
     "name": "stdout",
     "output_type": "stream",
     "text": [
      "sub_0027 : \n",
      "\t eTIV :  1678632.04462\n",
      "\t Cerebellum_Cortex :  91251.79999999999\n",
      "\t Cerebellum_Cortex_r :  0.05436081140739637\n",
      "sub_0012 : \n",
      "\t eTIV :  1323749.89026\n",
      "\t Cerebellum_Cortex :  119750.2\n",
      "\t Cerebellum_Cortex_r :  0.09046285924637898\n"
     ]
    }
   ],
   "source": [
    "# check subject feature values\n",
    "curr_data[curr_data['Cerebellum_Cortex_r']>0.1]\n",
    "#max(curr_data['Cerebellum_Cortex_r']) # sub_0073\n",
    "def peep_sub(data, sub_name, features):\n",
    "    print(sub_name,': ')\n",
    "    for x in features:\n",
    "        print('\\t' ,x, ': ', data.loc[sub_name, x])\n",
    "        \n",
    "peep_sub(curr_data, 'sub_0027', [ 'eTIV', 'Cerebellum_Cortex', 'Cerebellum_Cortex_r'])\n",
    "peep_sub(curr_data, 'sub_0012', [ 'eTIV', 'Cerebellum_Cortex', 'Cerebellum_Cortex_r'])"
   ]
  },
  {
   "cell_type": "code",
   "execution_count": null,
   "metadata": {},
   "outputs": [],
   "source": [
    "# one way ANOVA\n",
    "f_res=stats.f_oneway(tmp_data['Cerebellum-Cortex_AgeSexRemoved'][tmp_data['diagnosis'] == 'PD'],\n",
    "                     tmp_data['Cerebellum-Cortex_AgeSexRemoved'][tmp_data['diagnosis'] == 'NC'])\n",
    "\"\"\"\n",
    "The function below was created specifically for the one-way ANOVA table results returned for Type II sum of squares\n",
    "\"\"\"\n",
    "def anova_table(aov):\n",
    "    aov['mean_sq'] = aov[:]['sum_sq']/aov[:]['df']\n",
    "\n",
    "    aov['eta_sq'] = aov[:-1]['sum_sq']/sum(aov['sum_sq'])\n",
    "\n",
    "    aov['omega_sq'] = (aov[:-1]['sum_sq']-(aov[:-1]['df']*aov['mean_sq'][-1]))/(sum(aov['sum_sq'])+aov['mean_sq'][-1])\n",
    "\n",
    "    cols = ['sum_sq', 'df', 'mean_sq', 'F', 'PR(>F)', 'eta_sq', 'omega_sq']\n",
    "    aov = aov[cols]\n",
    "    return aov\n",
    "print(rp.summary_cont(tmp_data['Cerebellum-Cortex_r'].groupby(tmp_data['diagnosis'])))\n",
    "print(rp.summary_cont(tmp_data['Cerebellum-White-Matter_r'].groupby(tmp_data['diagnosis'])))"
   ]
  }
 ],
 "metadata": {
  "kernelspec": {
   "display_name": "Python 3",
   "language": "python",
   "name": "python3"
  },
  "language_info": {
   "codemirror_mode": {
    "name": "ipython",
    "version": 3
   },
   "file_extension": ".py",
   "mimetype": "text/x-python",
   "name": "python",
   "nbconvert_exporter": "python",
   "pygments_lexer": "ipython3",
   "version": "3.7.0"
  }
 },
 "nbformat": 4,
 "nbformat_minor": 4
}
