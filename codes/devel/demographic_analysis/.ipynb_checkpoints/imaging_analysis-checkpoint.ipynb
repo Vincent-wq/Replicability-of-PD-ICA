{
 "cells": [
  {
   "cell_type": "code",
   "execution_count": null,
   "metadata": {},
   "outputs": [],
   "source": [
    "## read demographic data and freesurfer outputs\n",
    "from pathlib import Path\n",
    "import nipype.interfaces.io as nio\n",
    "import pandas as pd\n",
    "#reading freesurfer results\n",
    "out_dir = Path(\"/output\")\n",
    "fig_dir = out_dir / \"figs\"\n",
    "fsdata_file = out_dir / 'freesurfer_out_preped.csv'\n",
    "tab_data = pd.read_csv(fsdata_file, sep=',', header=0, index_col=0);\n",
    "\n",
    "## read T1 images in mni space, need another subject list\n",
    "#abbas_jacobians_dir = out_dir / 'Abbas_Jacobians_mni'\n",
    "#sub_list = list(tab_data.index); \n",
    "#sub_list   = [x.replace('_','-') for x in sub_list]\n",
    "#ds_jacobian = nio.DataGrabber(infields=['sub_id'])\n",
    "#ds_jacobian.inputs.base_directory = abbas_jacobians_dir # database\n",
    "#ds_jacobian.inputs.template = '%s_desc-preproc_T1w_space-MNI2009c_Warp_Jacobian-masked.nii.gz' # from cwd\n",
    "#ds_jacobian.inputs.sort_filelist = True\n",
    "#ds_jacobian.inputs.sub_id = sub_list\n",
    "#res_jacobian = ds_jacobian.run()\n",
    "#jacobian_list=res_jacobian.outputs.outfiles\n",
    "#tab_data[\"t1_mni\"] = jacobian_list\n",
    "#import nibabel as nib\n",
    "#import numpy as np\n",
    "#len(jacobian_list)\n",
    "#tab_data[\"t1_mni_data\"] = [nib.load(x).get_fdata() for x in tab_data[\"t1_mni\"]]\n",
    "#tab_data[\"t1_mni_data_vec\"] = [np.reshape(x,-1) for x in tab_data[\"t1_mni_data\"]]"
   ]
  }
 ],
 "metadata": {
  "kernelspec": {
   "display_name": "Python 3",
   "language": "python",
   "name": "python3"
  },
  "language_info": {
   "codemirror_mode": {
    "name": "ipython",
    "version": 3
   },
   "file_extension": ".py",
   "mimetype": "text/x-python",
   "name": "python",
   "nbconvert_exporter": "python",
   "pygments_lexer": "ipython3",
   "version": "3.7.0"
  }
 },
 "nbformat": 4,
 "nbformat_minor": 4
}
